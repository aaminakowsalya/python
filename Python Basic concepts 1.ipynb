{
  "nbformat": 4,
  "nbformat_minor": 0,
  "metadata": {
    "colab": {
      "name": "PSES29-07-2022.ipynb",
      "provenance": [],
      "include_colab_link": true
    },
    "kernelspec": {
      "name": "python3",
      "display_name": "Python 3"
    },
    "language_info": {
      "name": "python"
    }
  },
  "cells": [
    {
      "cell_type": "markdown",
      "metadata": {
        "id": "view-in-github",
        "colab_type": "text"
      },
      "source": [
        "<a href=\"https://colab.research.google.com/github/aaminakowsalya/python/blob/main/Python%20Basic%20concepts%201.ipynb\" target=\"_parent\"><img src=\"https://colab.research.google.com/assets/colab-badge.svg\" alt=\"Open In Colab\"/></a>"
      ]
    },
    {
      "cell_type": "markdown",
      "source": [
        "# **Hello World Program**"
      ],
      "metadata": {
        "id": "8PFolcm59oO2"
      }
    },
    {
      "cell_type": "markdown",
      "source": [
        "# My first Program"
      ],
      "metadata": {
        "id": "uUhlVreV-exw"
      }
    },
    {
      "cell_type": "code",
      "execution_count": null,
      "metadata": {
        "colab": {
          "base_uri": "https://localhost:8080/"
        },
        "id": "v9VchzNR82ND",
        "outputId": "bd38782d-cd6f-4f8a-d2f1-2b91bdafcb74"
      },
      "outputs": [
        {
          "output_type": "stream",
          "name": "stdout",
          "text": [
            "Hello World\n"
          ]
        }
      ],
      "source": [
        "print('Hello World') #Hello World Program"
      ]
    },
    {
      "cell_type": "code",
      "source": [
        ""
      ],
      "metadata": {
        "id": "3AIlHl5w9ZYu"
      },
      "execution_count": null,
      "outputs": []
    },
    {
      "cell_type": "markdown",
      "source": [
        "# Basics of Python"
      ],
      "metadata": {
        "id": "E-n4mjH893hY"
      }
    },
    {
      "cell_type": "markdown",
      "source": [
        "Variable"
      ],
      "metadata": {
        "id": "Hf59koUp_ERF"
      }
    },
    {
      "cell_type": "code",
      "source": [
        "A=50\n",
        "A='Guvi'\n",
        "\n",
        "A=[1,2,3,4,5]\n",
        "\n",
        "userinput=25\n",
        "\n",
        "user_input=25\n",
        "\n",
        "UserInput=25\n",
        "\n",
        "2user=50 # variable shoud not starts with num\n",
        "\n",
        "user_2=25\n",
        "\n",
        "List=35\n",
        "\n"
      ],
      "metadata": {
        "id": "s_kZlQLS97KO"
      },
      "execution_count": null,
      "outputs": []
    },
    {
      "cell_type": "code",
      "source": [
        "A=50\n",
        "B=60\n",
        "print(A+B)"
      ],
      "metadata": {
        "colab": {
          "base_uri": "https://localhost:8080/"
        },
        "id": "B5DlZlakAedC",
        "outputId": "fe3023ba-3a57-41c1-a46d-abfcea8ed3cb"
      },
      "execution_count": null,
      "outputs": [
        {
          "output_type": "stream",
          "name": "stdout",
          "text": [
            "110\n"
          ]
        }
      ]
    },
    {
      "cell_type": "markdown",
      "source": [
        "## Data Types"
      ],
      "metadata": {
        "id": "iBDJ7Df3AyHL"
      }
    },
    {
      "cell_type": "code",
      "source": [
        "I=50  #Int mobile no,adhar,Roll without str\n",
        "I=-50 #Int\n",
        "\n",
        "f=3.14  #Float Kg, temp,Length, all units blong to floats\n",
        "F=-3.14 #Float\n",
        "\n",
        "S='50' #Str mail, pan, passwords\n",
        "S=\"50\" #Str\n",
        "S='Guvi' #Str\n",
        "S='G' #Str\n",
        "\n",
        "S='!@#$%^&*()_+' #Str\n",
        "\n",
        "B=True #Bool 1,pass,on,+,High,yes,Head,start\n",
        "B=False #Bool 0,fail,off,-,Low,no,Tail,stop"
      ],
      "metadata": {
        "id": "HqUtedpfAg6e"
      },
      "execution_count": null,
      "outputs": []
    },
    {
      "cell_type": "code",
      "source": [
        "5==5"
      ],
      "metadata": {
        "colab": {
          "base_uri": "https://localhost:8080/"
        },
        "id": "PZ7BHtiNEZyo",
        "outputId": "142dfb69-1f53-47b4-9ffb-0e2c2a3e0e9a"
      },
      "execution_count": null,
      "outputs": [
        {
          "output_type": "execute_result",
          "data": {
            "text/plain": [
              "True"
            ]
          },
          "metadata": {},
          "execution_count": 11
        }
      ]
    },
    {
      "cell_type": "code",
      "source": [
        "5=='5'"
      ],
      "metadata": {
        "colab": {
          "base_uri": "https://localhost:8080/"
        },
        "id": "8QWgMLhREmBm",
        "outputId": "ed70a527-59b5-4831-b5ea-404a2e6e2385"
      },
      "execution_count": null,
      "outputs": [
        {
          "output_type": "execute_result",
          "data": {
            "text/plain": [
              "False"
            ]
          },
          "metadata": {},
          "execution_count": 12
        }
      ]
    },
    {
      "cell_type": "markdown",
      "source": [
        "## Data Structures\n",
        "\n",
        "list,tuple, set and dictionary "
      ],
      "metadata": {
        "id": "1rF2XrwoFBjX"
      }
    },
    {
      "cell_type": "code",
      "source": [
        "#list\n",
        "\n",
        "l=[5,3.14,'Guvi',True,[1,2,3,4,5,6,8,9,40]] #List can contain any data types or data structures \n",
        "\n",
        "#  0   1     2     3          4           # Add,Remove, Manuplate,change can be done in list (List is Mutable)\n",
        "\n",
        "print(l[2])"
      ],
      "metadata": {
        "colab": {
          "base_uri": "https://localhost:8080/"
        },
        "id": "RM2x0MJnEpeM",
        "outputId": "4f2c488f-6763-4b8f-f898-aa33ae9b8b03"
      },
      "execution_count": null,
      "outputs": [
        {
          "output_type": "stream",
          "name": "stdout",
          "text": [
            "Guvi\n"
          ]
        }
      ]
    },
    {
      "cell_type": "code",
      "source": [
        "print(l[4])"
      ],
      "metadata": {
        "colab": {
          "base_uri": "https://localhost:8080/"
        },
        "id": "ckDrjA0QH2ae",
        "outputId": "1d03783a-cdc8-4568-b445-786f383080a8"
      },
      "execution_count": null,
      "outputs": [
        {
          "output_type": "stream",
          "name": "stdout",
          "text": [
            "[1, 2, 3, 4, 5, 6, 8, 9, 40]\n"
          ]
        }
      ]
    },
    {
      "cell_type": "code",
      "source": [
        "print(l[4][6])"
      ],
      "metadata": {
        "colab": {
          "base_uri": "https://localhost:8080/"
        },
        "id": "kuO3YuSEH-9D",
        "outputId": "dea1aeae-2497-4a93-9f62-183b85723d89"
      },
      "execution_count": null,
      "outputs": [
        {
          "output_type": "stream",
          "name": "stdout",
          "text": [
            "8\n"
          ]
        }
      ]
    },
    {
      "cell_type": "code",
      "source": [
        "#Tuple\n",
        "\n",
        "T=(5,3.14,'Guvi',True,[1,2,3,4,5,6,8,9,40]) #Tuple can contain any data types or data structures \n",
        "                                            # Tuple is immutable( it cannot change )\n",
        "\n",
        "print(T[2])"
      ],
      "metadata": {
        "colab": {
          "base_uri": "https://localhost:8080/"
        },
        "id": "eRAGhe5XIFED",
        "outputId": "de8603bf-0f69-4a1a-e4c0-873cfd811906"
      },
      "execution_count": null,
      "outputs": [
        {
          "output_type": "stream",
          "name": "stdout",
          "text": [
            "Guvi\n"
          ]
        }
      ]
    },
    {
      "cell_type": "code",
      "source": [
        "P_Out=('Sachin','EEE',2011,'A') \n",
        "\n",
        "Pres_Std=['Dhoni','ECE','II-A','B']"
      ],
      "metadata": {
        "id": "sXNorlhWJBhV"
      },
      "execution_count": null,
      "outputs": []
    },
    {
      "cell_type": "code",
      "source": [
        "dir(list)"
      ],
      "metadata": {
        "colab": {
          "base_uri": "https://localhost:8080/"
        },
        "id": "tYjQm_grKIT_",
        "outputId": "28f08133-6239-4853-f244-78b2eafd5e96"
      },
      "execution_count": null,
      "outputs": [
        {
          "output_type": "execute_result",
          "data": {
            "text/plain": [
              "['__add__',\n",
              " '__class__',\n",
              " '__contains__',\n",
              " '__delattr__',\n",
              " '__delitem__',\n",
              " '__dir__',\n",
              " '__doc__',\n",
              " '__eq__',\n",
              " '__format__',\n",
              " '__ge__',\n",
              " '__getattribute__',\n",
              " '__getitem__',\n",
              " '__gt__',\n",
              " '__hash__',\n",
              " '__iadd__',\n",
              " '__imul__',\n",
              " '__init__',\n",
              " '__init_subclass__',\n",
              " '__iter__',\n",
              " '__le__',\n",
              " '__len__',\n",
              " '__lt__',\n",
              " '__mul__',\n",
              " '__ne__',\n",
              " '__new__',\n",
              " '__reduce__',\n",
              " '__reduce_ex__',\n",
              " '__repr__',\n",
              " '__reversed__',\n",
              " '__rmul__',\n",
              " '__setattr__',\n",
              " '__setitem__',\n",
              " '__sizeof__',\n",
              " '__str__',\n",
              " '__subclasshook__',\n",
              " 'append',\n",
              " 'clear',\n",
              " 'copy',\n",
              " 'count',\n",
              " 'extend',\n",
              " 'index',\n",
              " 'insert',\n",
              " 'pop',\n",
              " 'remove',\n",
              " 'reverse',\n",
              " 'sort']"
            ]
          },
          "metadata": {},
          "execution_count": 17
        }
      ]
    },
    {
      "cell_type": "code",
      "source": [
        "print(dir(tuple))"
      ],
      "metadata": {
        "colab": {
          "base_uri": "https://localhost:8080/"
        },
        "id": "69OFkxg9KTnw",
        "outputId": "3837fd66-74a1-42e6-debd-169f5ecf52aa"
      },
      "execution_count": null,
      "outputs": [
        {
          "output_type": "stream",
          "name": "stdout",
          "text": [
            "['__add__', '__class__', '__contains__', '__delattr__', '__dir__', '__doc__', '__eq__', '__format__', '__ge__', '__getattribute__', '__getitem__', '__getnewargs__', '__gt__', '__hash__', '__init__', '__init_subclass__', '__iter__', '__le__', '__len__', '__lt__', '__mul__', '__ne__', '__new__', '__reduce__', '__reduce_ex__', '__repr__', '__rmul__', '__setattr__', '__sizeof__', '__str__', '__subclasshook__', 'count', 'index']\n"
          ]
        }
      ]
    },
    {
      "cell_type": "code",
      "source": [
        "#Set\n",
        "\n",
        "S={1,4,8,9,55,66,33,1,2,4,55,78,9,66,55,75}  #Set will allow the unique, Its an un order one # cant able to access the data\n",
        "\n",
        "S"
      ],
      "metadata": {
        "colab": {
          "base_uri": "https://localhost:8080/"
        },
        "id": "meGafD9tKmzE",
        "outputId": "84d0e636-6709-4d45-ef30-67719baa0cdb"
      },
      "execution_count": null,
      "outputs": [
        {
          "output_type": "execute_result",
          "data": {
            "text/plain": [
              "{1, 2, 4, 8, 9, 33, 55, 66, 75, 78}"
            ]
          },
          "metadata": {},
          "execution_count": 22
        }
      ]
    },
    {
      "cell_type": "code",
      "source": [
        "L=list(S)\n",
        "L"
      ],
      "metadata": {
        "colab": {
          "base_uri": "https://localhost:8080/"
        },
        "id": "IBdonxhpL2r3",
        "outputId": "d217c60f-a2cc-4597-e29e-ca762ec81b17"
      },
      "execution_count": null,
      "outputs": [
        {
          "output_type": "execute_result",
          "data": {
            "text/plain": [
              "[1, 66, 33, 4, 2, 8, 9, 75, 78, 55]"
            ]
          },
          "metadata": {},
          "execution_count": 24
        }
      ]
    },
    {
      "cell_type": "code",
      "source": [
        "L[2]"
      ],
      "metadata": {
        "colab": {
          "base_uri": "https://localhost:8080/"
        },
        "id": "BFpFSZ9-LF7e",
        "outputId": "f698e290-4cc4-4026-aab7-31abab429437"
      },
      "execution_count": null,
      "outputs": [
        {
          "output_type": "execute_result",
          "data": {
            "text/plain": [
              "33"
            ]
          },
          "metadata": {},
          "execution_count": 25
        }
      ]
    },
    {
      "cell_type": "code",
      "source": [
        "Pass_Port_No=['A25','B36','C56','A25','B36','R58','D21','C56','A25','T56'] # A25-2,B36-1,C56-1 #10000\n",
        "len(Pass_Port_No)"
      ],
      "metadata": {
        "colab": {
          "base_uri": "https://localhost:8080/"
        },
        "id": "1KMiJtedL8OD",
        "outputId": "92b6274a-bf1c-4514-a58a-4a02edcfcafc"
      },
      "execution_count": null,
      "outputs": [
        {
          "output_type": "execute_result",
          "data": {
            "text/plain": [
              "10"
            ]
          },
          "metadata": {},
          "execution_count": 26
        }
      ]
    },
    {
      "cell_type": "code",
      "source": [
        "Remove_Dup=set(Pass_Port_No)\n",
        "Remove_Dup"
      ],
      "metadata": {
        "colab": {
          "base_uri": "https://localhost:8080/"
        },
        "id": "hk_a17bAMTq_",
        "outputId": "2cbc5579-c137-43ad-e37f-dad6f58fdd62"
      },
      "execution_count": null,
      "outputs": [
        {
          "output_type": "execute_result",
          "data": {
            "text/plain": [
              "{'A25', 'B36', 'C56', 'D21', 'R58', 'T56'}"
            ]
          },
          "metadata": {},
          "execution_count": 27
        }
      ]
    },
    {
      "cell_type": "code",
      "source": [
        "len(Remove_Dup)"
      ],
      "metadata": {
        "colab": {
          "base_uri": "https://localhost:8080/"
        },
        "id": "4whOm8h1Mys9",
        "outputId": "912d157b-e380-4de6-c550-d34a1669981a"
      },
      "execution_count": null,
      "outputs": [
        {
          "output_type": "execute_result",
          "data": {
            "text/plain": [
              "6"
            ]
          },
          "metadata": {},
          "execution_count": 28
        }
      ]
    },
    {
      "cell_type": "code",
      "source": [
        "No_of_Dup=len(Pass_Port_No)-len(Remove_Dup)\n",
        "print('No of Duplicate : ',No_of_Dup)"
      ],
      "metadata": {
        "colab": {
          "base_uri": "https://localhost:8080/"
        },
        "id": "1aGrjShwM3Lj",
        "outputId": "ae8749d8-990a-4c2a-fc64-af4fa0868983"
      },
      "execution_count": null,
      "outputs": [
        {
          "output_type": "stream",
          "name": "stdout",
          "text": [
            "No of Duplicate :  4\n"
          ]
        }
      ]
    },
    {
      "cell_type": "code",
      "source": [
        "#Dictionary \n",
        "\n",
        "D={'Name':'Sachin',\n",
        "   'Age':35,\n",
        "   'Salary':40000}\n",
        "\n",
        "print(D['Name'])\n",
        "print(D['Salary'])"
      ],
      "metadata": {
        "colab": {
          "base_uri": "https://localhost:8080/"
        },
        "id": "wSoq0_mnNBSr",
        "outputId": "a89297ef-a1fd-4bd3-92fc-464ffd131510"
      },
      "execution_count": null,
      "outputs": [
        {
          "output_type": "stream",
          "name": "stdout",
          "text": [
            "Sachin\n",
            "40000\n"
          ]
        }
      ]
    },
    {
      "cell_type": "code",
      "source": [
        "Name=['Kumar','Rajesh']"
      ],
      "metadata": {
        "id": "rrq7UQJ_PX9J"
      },
      "execution_count": null,
      "outputs": []
    },
    {
      "cell_type": "code",
      "source": [
        "Emp={'Emp_Id':[55,63,28,7,92],\n",
        "    'Name':['Sachin','Raina','Virat','Dhoni','Yuvaraj'],\n",
        "     'Age':[40,35,37,39,42],\n",
        "     'Salary':[50000,30000,35000,40000,45000],\n",
        "     }\n",
        "\n",
        "Emp"
      ],
      "metadata": {
        "colab": {
          "base_uri": "https://localhost:8080/"
        },
        "id": "4xxdWvTQPQ7y",
        "outputId": "44d76fb3-46f2-40c8-927d-19d47af8284b"
      },
      "execution_count": null,
      "outputs": [
        {
          "output_type": "execute_result",
          "data": {
            "text/plain": [
              "{'Age': [40, 35, 37, 39, 42],\n",
              " 'Emp_Id': [55, 63, 28, 7, 92],\n",
              " 'Name': ['Sachin', 'Raina', 'Virat', 'Dhoni', 'Yuvaraj'],\n",
              " 'Salary': [50000, 30000, 35000, 40000, 45000]}"
            ]
          },
          "metadata": {},
          "execution_count": 39
        }
      ]
    },
    {
      "cell_type": "code",
      "source": [
        "Emp['Name'][3]"
      ],
      "metadata": {
        "colab": {
          "base_uri": "https://localhost:8080/",
          "height": 35
        },
        "id": "mnwpipjeQARW",
        "outputId": "6b7f3535-7980-4297-8143-ad4eb34a85c6"
      },
      "execution_count": null,
      "outputs": [
        {
          "output_type": "execute_result",
          "data": {
            "text/plain": [
              "'Dhoni'"
            ],
            "application/vnd.google.colaboratory.intrinsic+json": {
              "type": "string"
            }
          },
          "metadata": {},
          "execution_count": 41
        }
      ]
    },
    {
      "cell_type": "code",
      "source": [
        "print('Emp_Id : ',Emp['Emp_Id'][2])\n",
        "print('Name : ',Emp['Name'][2])\n",
        "print('Age : ',Emp['Age'][2])\n",
        "print('Salary : ',Emp['Salary'][2])"
      ],
      "metadata": {
        "colab": {
          "base_uri": "https://localhost:8080/"
        },
        "id": "Q4yTb_fUQ4ll",
        "outputId": "c7155790-78cd-4e4d-91e3-67cab51401da"
      },
      "execution_count": null,
      "outputs": [
        {
          "output_type": "stream",
          "name": "stdout",
          "text": [
            "Emp_Id :  28\n",
            "Name :  Virat\n",
            "Age :  37\n",
            "Salary :  35000\n"
          ]
        }
      ]
    },
    {
      "cell_type": "code",
      "source": [
        "Emp['Name'].index('Virat')"
      ],
      "metadata": {
        "colab": {
          "base_uri": "https://localhost:8080/"
        },
        "id": "RTDqiZ4DRLGy",
        "outputId": "da28318e-1cd2-4bc4-ecf2-b539c2dcd6dd"
      },
      "execution_count": null,
      "outputs": [
        {
          "output_type": "execute_result",
          "data": {
            "text/plain": [
              "2"
            ]
          },
          "metadata": {},
          "execution_count": 51
        }
      ]
    },
    {
      "cell_type": "code",
      "source": [
        "Emp['Emp_Id'].index(28)"
      ],
      "metadata": {
        "colab": {
          "base_uri": "https://localhost:8080/"
        },
        "id": "jnEqnoz4RhZr",
        "outputId": "38efdb32-0d4e-46b4-ccb4-0f0bbf1aebb6"
      },
      "execution_count": null,
      "outputs": [
        {
          "output_type": "execute_result",
          "data": {
            "text/plain": [
              "2"
            ]
          },
          "metadata": {},
          "execution_count": 52
        }
      ]
    },
    {
      "cell_type": "code",
      "source": [
        "id=int(input('Enter Emp id :')) #63\n",
        "\n",
        "pos=Emp['Emp_Id'].index(id) #1\n",
        "\n",
        "print('Emp_Id : ',Emp['Emp_Id'][pos]) #63\n",
        "print('Name : ',Emp['Name'][pos]) #Raina\n",
        "print('Age : ',Emp['Age'][pos]) #35\n",
        "print('Salary : ',Emp['Salary'][pos])#30000"
      ],
      "metadata": {
        "colab": {
          "base_uri": "https://localhost:8080/"
        },
        "id": "ya6UADdARz1r",
        "outputId": "78494bdb-fe55-4bd9-ec9d-d78c1a0c45bc"
      },
      "execution_count": null,
      "outputs": [
        {
          "output_type": "stream",
          "name": "stdout",
          "text": [
            "Enter Emp id :63\n",
            "Emp_Id :  63\n",
            "Name :  Raina\n",
            "Age :  35\n",
            "Salary :  30000\n"
          ]
        }
      ]
    },
    {
      "cell_type": "markdown",
      "source": [
        "#Conditional Statment\n",
        "\n",
        "if, else, and elif"
      ],
      "metadata": {
        "id": "4v3FwfNNUH6O"
      }
    },
    {
      "cell_type": "code",
      "source": [
        "# Age >=14 and weight>=45\n",
        "\n",
        "Name=input('Enter Your Name : ')\n",
        "Age=int(input('Enter your Age : '))\n",
        "Wt=float(input('Enter Your Weight : '))\n",
        "\n",
        "if Age>=14 and Wt>=45:\n",
        "  print(Name,'You are Eligible for the Ride')\n",
        "else:\n",
        "  print(Name,'You are not Eligible for the Ride')"
      ],
      "metadata": {
        "colab": {
          "base_uri": "https://localhost:8080/"
        },
        "id": "hzA087waSVJU",
        "outputId": "846c6012-2a84-48e6-deab-238f349a4c81"
      },
      "execution_count": null,
      "outputs": [
        {
          "output_type": "stream",
          "name": "stdout",
          "text": [
            "Enter Your Name : Sathish\n",
            "Enter your Age : 12\n",
            "Enter Your Weight : 46\n",
            "Sathish You are not Eligible for the Ride\n"
          ]
        }
      ]
    },
    {
      "cell_type": "code",
      "source": [
        "# Age >=14 and weight>=45\n",
        "\n",
        "Name=input('Enter Your Name : ')\n",
        "Age=int(input('Enter your Age : '))\n",
        "\n",
        "if Age>=14:\n",
        "  Wt=float(input('Enter Your Weight : '))\n",
        "  if Wt>=45:\n",
        "    print(Name,'You are Eligible for the Ride')\n",
        "  else:\n",
        "    print(Name,'You are Not Eligible for the Ride, You are Under Weight')\n",
        "\n",
        "else:\n",
        "  print(Name,'You are Not Eligible for the Ride, You are Under Age')"
      ],
      "metadata": {
        "colab": {
          "base_uri": "https://localhost:8080/"
        },
        "id": "XEwINyc8V5KA",
        "outputId": "73eef90a-7d94-44c7-dc59-a7a06147585d"
      },
      "execution_count": null,
      "outputs": [
        {
          "output_type": "stream",
          "name": "stdout",
          "text": [
            "Enter Your Name : Sathish\n",
            "Enter your Age : 15\n",
            "Enter Your Weight : 40\n",
            "Sathish You are Not Eligible for the Ride, You are Under Weight\n"
          ]
        }
      ]
    },
    {
      "cell_type": "code",
      "source": [
        "#Task -1\n",
        "#1000> 10%, 2000>20%,5000>25% dis 1000<Bill no discount \n",
        "\n",
        "Name=input('Enter Your Name : ')\n",
        "Bill_Amt=float(input('Enter the Bill Amount : '))\n",
        "\n",
        "if Bill_Amt>0:\n",
        "  if Bill_Amt>1000 and Bill_Amt<=2000:\n",
        "    dis=Bill_Amt*0.10\n",
        "    F_Bill=Bill_Amt-dis\n",
        "\n",
        "    print(Name,'You are purchasing for ',Bill_Amt,' And Your discount is 10% and your Final Bill Amount',F_Bill)\n",
        "\n",
        "  elif  Bill_Amt>2000 and Bill_Amt<=5000:\n",
        "    dis=Bill_Amt*0.20\n",
        "    F_Bill=Bill_Amt-dis\n",
        "\n",
        "    print(Name,'You are purchasing for ',Bill_Amt,' And Your discount is 20% and your Final Bill Amount',F_Bill)\n",
        "\n",
        "  elif  Bill_Amt>5000:\n",
        "    dis=Bill_Amt*0.25\n",
        "    F_Bill=Bill_Amt-dis\n",
        "\n",
        "    print(Name,'You are purchasing for ',Bill_Amt,' And Your discount is 25% and your Final Bill Amount',F_Bill)\n",
        "\n",
        "  else:\n",
        "    print(Name,'You are not eligible for the discount because Your bill Amount is less than 1000, your Final Bill Amount',Bill_Amt)\n",
        "else:\n",
        "  print(\"Enter the Valid Bill Amount\")"
      ],
      "metadata": {
        "id": "04UIl2MrXCAs",
        "colab": {
          "base_uri": "https://localhost:8080/"
        },
        "outputId": "5477cc74-2908-413d-bd48-ada26e1f6677"
      },
      "execution_count": null,
      "outputs": [
        {
          "output_type": "stream",
          "name": "stdout",
          "text": [
            "Enter Your Name : Pooja\n",
            "Enter the Bill Amount : -100\n",
            "Enter the Valid Bill Amount\n"
          ]
        }
      ]
    },
    {
      "cell_type": "markdown",
      "source": [
        "#input And Outputs"
      ],
      "metadata": {
        "id": "evXXxx9pS-wd"
      }
    },
    {
      "cell_type": "code",
      "source": [
        "# 5 / o/p 5\n",
        "\n",
        "A=int(input())\n",
        "print(A)\n",
        "print(type(A))"
      ],
      "metadata": {
        "colab": {
          "base_uri": "https://localhost:8080/"
        },
        "id": "jo8Eh7NHSMj7",
        "outputId": "20569cb8-bca7-4d14-c916-9b1fd20df2c8"
      },
      "execution_count": null,
      "outputs": [
        {
          "output_type": "stream",
          "name": "stdout",
          "text": [
            "5\n",
            "5\n",
            "<class 'int'>\n"
          ]
        }
      ]
    },
    {
      "cell_type": "code",
      "source": [
        "A=input()\n",
        "print(A)\n",
        "print(type(A))"
      ],
      "metadata": {
        "colab": {
          "base_uri": "https://localhost:8080/"
        },
        "id": "juAbCyA0TMO0",
        "outputId": "20f96c5b-88e2-483c-dcff-57f0295f7fca"
      },
      "execution_count": null,
      "outputs": [
        {
          "output_type": "stream",
          "name": "stdout",
          "text": [
            "5\n",
            "5\n",
            "<class 'str'>\n"
          ]
        }
      ]
    },
    {
      "cell_type": "code",
      "source": [
        "A=input()\n",
        "B=input()\n",
        "print(A+B)"
      ],
      "metadata": {
        "colab": {
          "base_uri": "https://localhost:8080/"
        },
        "id": "XaY5QHCPTQ9y",
        "outputId": "53918df1-5ed8-4030-c268-0168acadf029"
      },
      "execution_count": null,
      "outputs": [
        {
          "output_type": "stream",
          "name": "stdout",
          "text": [
            "5\n",
            "20\n",
            "520\n"
          ]
        }
      ]
    },
    {
      "cell_type": "code",
      "source": [
        "A=input()\n",
        "B=int(input())\n",
        "print(A+B)"
      ],
      "metadata": {
        "colab": {
          "base_uri": "https://localhost:8080/",
          "height": 241
        },
        "id": "7u_I9hWDTXvk",
        "outputId": "e3e26aa9-0ae9-4465-ecfb-137703b24630"
      },
      "execution_count": null,
      "outputs": [
        {
          "name": "stdout",
          "output_type": "stream",
          "text": [
            "5\n",
            "20\n"
          ]
        },
        {
          "output_type": "error",
          "ename": "TypeError",
          "evalue": "ignored",
          "traceback": [
            "\u001b[0;31m---------------------------------------------------------------------------\u001b[0m",
            "\u001b[0;31mTypeError\u001b[0m                                 Traceback (most recent call last)",
            "\u001b[0;32m<ipython-input-8-a0cb75b0e8aa>\u001b[0m in \u001b[0;36m<module>\u001b[0;34m()\u001b[0m\n\u001b[1;32m      1\u001b[0m \u001b[0mA\u001b[0m\u001b[0;34m=\u001b[0m\u001b[0minput\u001b[0m\u001b[0;34m(\u001b[0m\u001b[0;34m)\u001b[0m\u001b[0;34m\u001b[0m\u001b[0;34m\u001b[0m\u001b[0m\n\u001b[1;32m      2\u001b[0m \u001b[0mB\u001b[0m\u001b[0;34m=\u001b[0m\u001b[0mint\u001b[0m\u001b[0;34m(\u001b[0m\u001b[0minput\u001b[0m\u001b[0;34m(\u001b[0m\u001b[0;34m)\u001b[0m\u001b[0;34m)\u001b[0m\u001b[0;34m\u001b[0m\u001b[0;34m\u001b[0m\u001b[0m\n\u001b[0;32m----> 3\u001b[0;31m \u001b[0mprint\u001b[0m\u001b[0;34m(\u001b[0m\u001b[0mA\u001b[0m\u001b[0;34m+\u001b[0m\u001b[0mB\u001b[0m\u001b[0;34m)\u001b[0m\u001b[0;34m\u001b[0m\u001b[0;34m\u001b[0m\u001b[0m\n\u001b[0m",
            "\u001b[0;31mTypeError\u001b[0m: can only concatenate str (not \"int\") to str"
          ]
        }
      ]
    },
    {
      "cell_type": "code",
      "source": [
        "A=input()\n",
        "B=int(input())\n",
        "print(A*B)"
      ],
      "metadata": {
        "colab": {
          "base_uri": "https://localhost:8080/"
        },
        "id": "qOWXettgTi87",
        "outputId": "d69420e6-2578-4cfa-bd9e-e0f13df222bf"
      },
      "execution_count": null,
      "outputs": [
        {
          "output_type": "stream",
          "name": "stdout",
          "text": [
            "20\n",
            "5\n",
            "2020202020\n"
          ]
        }
      ]
    },
    {
      "cell_type": "code",
      "source": [
        "# 1 2 3 4 5  / o/p 1 2 3 4 5 \n",
        "\n",
        "# 45 36 25  / o/p 45 36 25\n",
        "\n",
        "A=input()\n",
        "\n",
        "print(A)\n",
        "print(type(A))\n"
      ],
      "metadata": {
        "colab": {
          "base_uri": "https://localhost:8080/"
        },
        "id": "9Ag35djATrNV",
        "outputId": "ae4dd4e1-789c-4976-a418-18965e4303a2"
      },
      "execution_count": null,
      "outputs": [
        {
          "output_type": "stream",
          "name": "stdout",
          "text": [
            "1 2 3 4 5\n",
            "1 2 3 4 5\n",
            "<class 'str'>\n"
          ]
        }
      ]
    },
    {
      "cell_type": "code",
      "source": [
        "A=input().split('-')  #1,2,3,4,5 / 1 2 3 4 5\n",
        "\n",
        "print(A)"
      ],
      "metadata": {
        "colab": {
          "base_uri": "https://localhost:8080/"
        },
        "id": "5Ukmu0ciUTU7",
        "outputId": "a56edc6f-55f9-46c9-9412-b0f754495995"
      },
      "execution_count": null,
      "outputs": [
        {
          "output_type": "stream",
          "name": "stdout",
          "text": [
            "1-2-3-4-5\n",
            "['1', '2', '3', '4', '5']\n"
          ]
        }
      ]
    },
    {
      "cell_type": "code",
      "source": [
        "S='Guvi Geek Network'\n",
        "\n",
        "S.split('G')"
      ],
      "metadata": {
        "colab": {
          "base_uri": "https://localhost:8080/"
        },
        "id": "kFKjC0IfWQq1",
        "outputId": "69b74fa7-7ba6-49ec-a874-1a6535fe4431"
      },
      "execution_count": null,
      "outputs": [
        {
          "output_type": "execute_result",
          "data": {
            "text/plain": [
              "['', 'uvi ', 'eek Network']"
            ]
          },
          "metadata": {},
          "execution_count": 16
        }
      ]
    },
    {
      "cell_type": "code",
      "source": [
        "A=input().split()\n",
        "A"
      ],
      "metadata": {
        "colab": {
          "base_uri": "https://localhost:8080/"
        },
        "id": "xBY0kXELrQhp",
        "outputId": "31d3e2eb-7c89-4757-8ee1-9bdd23098a10"
      },
      "execution_count": null,
      "outputs": [
        {
          "name": "stdout",
          "output_type": "stream",
          "text": [
            "1 2 3 4 5 6\n"
          ]
        },
        {
          "output_type": "execute_result",
          "data": {
            "text/plain": [
              "['1', '2', '3', '4', '5', '6']"
            ]
          },
          "metadata": {},
          "execution_count": 79
        }
      ]
    },
    {
      "cell_type": "code",
      "source": [
        "L=list(map(int,input().split()))\n",
        "print(*L)"
      ],
      "metadata": {
        "colab": {
          "base_uri": "https://localhost:8080/"
        },
        "id": "ljOybQcSrAqQ",
        "outputId": "e38ee85b-20dd-4e6c-bfeb-6576bdf7d5ba"
      },
      "execution_count": null,
      "outputs": [
        {
          "output_type": "stream",
          "name": "stdout",
          "text": [
            "1 2 3 4 5\n",
            "1 2 3 4 5\n"
          ]
        }
      ]
    },
    {
      "cell_type": "code",
      "source": [
        "#map, list comp, for loop  #1 2 4 6 1 2 4 5\n",
        "\n",
        "B=list(map(int,A))\n",
        "B\n"
      ],
      "metadata": {
        "colab": {
          "base_uri": "https://localhost:8080/"
        },
        "id": "8D-S_0tEU_HJ",
        "outputId": "dcbce08d-5e1e-4cae-bb7b-d1856b381073"
      },
      "execution_count": null,
      "outputs": [
        {
          "output_type": "execute_result",
          "data": {
            "text/plain": [
              "[1, 2, 3, 4, 5]"
            ]
          },
          "metadata": {},
          "execution_count": 26
        }
      ]
    },
    {
      "cell_type": "code",
      "source": [
        "print(*B)"
      ],
      "metadata": {
        "colab": {
          "base_uri": "https://localhost:8080/"
        },
        "id": "7vgcaoCeYQqr",
        "outputId": "13b5b146-5560-454c-e2c3-5ab2e7e38f83"
      },
      "execution_count": null,
      "outputs": [
        {
          "output_type": "stream",
          "name": "stdout",
          "text": [
            "1 2 3 4 5\n"
          ]
        }
      ]
    },
    {
      "cell_type": "code",
      "source": [
        "A"
      ],
      "metadata": {
        "colab": {
          "base_uri": "https://localhost:8080/"
        },
        "id": "p6E2F43UZCzS",
        "outputId": "ff3ea97a-2ebb-4764-dbb1-649625f2d8f6"
      },
      "execution_count": null,
      "outputs": [
        {
          "output_type": "execute_result",
          "data": {
            "text/plain": [
              "['1', '2', '3', '4', '5']"
            ]
          },
          "metadata": {},
          "execution_count": 28
        }
      ]
    },
    {
      "cell_type": "code",
      "source": [
        "print(*A)"
      ],
      "metadata": {
        "colab": {
          "base_uri": "https://localhost:8080/"
        },
        "id": "zfIM6lZsX5GD",
        "outputId": "b8f12609-591e-4124-a9bc-1cf63f7b58cd"
      },
      "execution_count": null,
      "outputs": [
        {
          "output_type": "stream",
          "name": "stdout",
          "text": [
            "1 2 3 4 5\n"
          ]
        }
      ]
    },
    {
      "cell_type": "code",
      "source": [
        "print('Guvi'.join(A)) #1-2-3-4-5"
      ],
      "metadata": {
        "colab": {
          "base_uri": "https://localhost:8080/"
        },
        "id": "vuxmYzGRZLla",
        "outputId": "5dce525b-6896-4adf-a583-65aa73c2709b"
      },
      "execution_count": null,
      "outputs": [
        {
          "output_type": "stream",
          "name": "stdout",
          "text": [
            "1Guvi2Guvi3Guvi4Guvi5\n"
          ]
        }
      ]
    },
    {
      "cell_type": "code",
      "source": [
        "print(' '.join(B))"
      ],
      "metadata": {
        "colab": {
          "base_uri": "https://localhost:8080/",
          "height": 169
        },
        "id": "T9RCvTAiZh-S",
        "outputId": "043e915d-6791-4c88-df68-9c73acf2c4f9"
      },
      "execution_count": null,
      "outputs": [
        {
          "output_type": "error",
          "ename": "TypeError",
          "evalue": "ignored",
          "traceback": [
            "\u001b[0;31m---------------------------------------------------------------------------\u001b[0m",
            "\u001b[0;31mTypeError\u001b[0m                                 Traceback (most recent call last)",
            "\u001b[0;32m<ipython-input-33-18502ba7a45e>\u001b[0m in \u001b[0;36m<module>\u001b[0;34m()\u001b[0m\n\u001b[0;32m----> 1\u001b[0;31m \u001b[0mprint\u001b[0m\u001b[0;34m(\u001b[0m\u001b[0;34m' '\u001b[0m\u001b[0;34m.\u001b[0m\u001b[0mjoin\u001b[0m\u001b[0;34m(\u001b[0m\u001b[0mB\u001b[0m\u001b[0;34m)\u001b[0m\u001b[0;34m)\u001b[0m\u001b[0;34m\u001b[0m\u001b[0;34m\u001b[0m\u001b[0m\n\u001b[0m",
            "\u001b[0;31mTypeError\u001b[0m: sequence item 0: expected str instance, int found"
          ]
        }
      ]
    },
    {
      "cell_type": "markdown",
      "source": [
        "### Loop\n",
        "\n",
        "for loop and While Loop"
      ],
      "metadata": {
        "id": "4Z1uQT7obMRa"
      }
    },
    {
      "cell_type": "code",
      "source": [
        "S=[1,2,3,4,5,6,7,8,9,10]\n",
        "\n",
        "for i in S:\n",
        "  print(i)"
      ],
      "metadata": {
        "colab": {
          "base_uri": "https://localhost:8080/"
        },
        "id": "1uvF_hqkbLz5",
        "outputId": "620c2d6b-ded4-4126-a67f-a68086f93e71"
      },
      "execution_count": null,
      "outputs": [
        {
          "output_type": "stream",
          "name": "stdout",
          "text": [
            "1\n",
            "2\n",
            "3\n",
            "4\n",
            "5\n",
            "6\n",
            "7\n",
            "8\n",
            "9\n",
            "10\n"
          ]
        }
      ]
    },
    {
      "cell_type": "code",
      "source": [
        "S=list(map(int,input().split()))\n",
        "for i in S:\n",
        "  print(i)"
      ],
      "metadata": {
        "colab": {
          "base_uri": "https://localhost:8080/"
        },
        "id": "CxrAyJT-a1EQ",
        "outputId": "31c127b1-bcdd-49c3-d407-da2b3aae7d6f"
      },
      "execution_count": null,
      "outputs": [
        {
          "output_type": "stream",
          "name": "stdout",
          "text": [
            "1 2 3 4\n",
            "1\n",
            "2\n",
            "3\n",
            "4\n"
          ]
        }
      ]
    },
    {
      "cell_type": "code",
      "source": [
        "Num=56\n",
        "\n",
        "if Num%2==0:\n",
        "  print('Even')\n",
        "else:\n",
        "  print('Odd')"
      ],
      "metadata": {
        "colab": {
          "base_uri": "https://localhost:8080/"
        },
        "id": "W5SCE0_FdqBS",
        "outputId": "0fcdb534-2479-4419-e35b-88956ad5906f"
      },
      "execution_count": null,
      "outputs": [
        {
          "output_type": "stream",
          "name": "stdout",
          "text": [
            "Even\n"
          ]
        }
      ]
    },
    {
      "cell_type": "code",
      "source": [
        "S=[12,45,78,96,53,11,45,62,88,99,8,9]\n",
        "\n",
        "Odd=[]\n",
        "Even=[]\n",
        "\n",
        "for i in S:\n",
        "  if i%2==0:\n",
        "    Even.append(i)\n",
        "  else:\n",
        "    Odd.append(i)\n",
        "\n",
        "print(*Even)\n",
        "print(*Odd)"
      ],
      "metadata": {
        "colab": {
          "base_uri": "https://localhost:8080/"
        },
        "id": "iVdBPVv7eVAV",
        "outputId": "f12122aa-59c1-4135-bf6b-df9cfd9019bd"
      },
      "execution_count": null,
      "outputs": [
        {
          "output_type": "stream",
          "name": "stdout",
          "text": [
            "12 78 96 62 88 8\n",
            "45 53 11 45 99 9\n"
          ]
        }
      ]
    },
    {
      "cell_type": "code",
      "source": [
        "print(*sorted(Even,reverse=True)) # descending \n",
        "print(*sorted(Odd)) #Aescending order"
      ],
      "metadata": {
        "colab": {
          "base_uri": "https://localhost:8080/"
        },
        "id": "h1AsfngrgLtk",
        "outputId": "040506b6-1576-4d83-85c1-4beae06a01dc"
      },
      "execution_count": null,
      "outputs": [
        {
          "output_type": "stream",
          "name": "stdout",
          "text": [
            "96 88 78 62 12 8\n",
            "9 11 45 45 53 99\n"
          ]
        }
      ]
    },
    {
      "cell_type": "code",
      "source": [
        "S=[1,2,3,4]\n",
        "S.append(100)\n",
        "S"
      ],
      "metadata": {
        "colab": {
          "base_uri": "https://localhost:8080/"
        },
        "id": "kglpNRdVe1B8",
        "outputId": "03bc6f00-2af5-4770-f0af-46e6f7ebc9a2"
      },
      "execution_count": null,
      "outputs": [
        {
          "output_type": "execute_result",
          "data": {
            "text/plain": [
              "[1, 2, 3, 4, 100]"
            ]
          },
          "metadata": {},
          "execution_count": 43
        }
      ]
    },
    {
      "cell_type": "code",
      "source": [
        "S.append(25)\n",
        "S"
      ],
      "metadata": {
        "colab": {
          "base_uri": "https://localhost:8080/"
        },
        "id": "SlY2CZDBfgI7",
        "outputId": "2c7a866f-e32d-4709-95ad-7f21c5c775e4"
      },
      "execution_count": null,
      "outputs": [
        {
          "output_type": "execute_result",
          "data": {
            "text/plain": [
              "[1, 2, 3, 4, 100, 25, 25]"
            ]
          },
          "metadata": {},
          "execution_count": 45
        }
      ]
    },
    {
      "cell_type": "code",
      "source": [
        "# Guvi Geek Network / G*v* G**k N*tw*rk\n",
        "\n",
        "S='Guvi Geek Network'\n",
        "D=[]\n",
        "\n",
        "for i in S:\n",
        "  if i in 'aeiouAEIOU':\n",
        "    D.append('*')\n",
        "  else:\n",
        "    D.append(i)\n",
        "print(''.join(D))"
      ],
      "metadata": {
        "colab": {
          "base_uri": "https://localhost:8080/"
        },
        "id": "3e88cvkrhAKR",
        "outputId": "77edfd96-8210-44eb-c342-84cdbe0c5490"
      },
      "execution_count": null,
      "outputs": [
        {
          "output_type": "stream",
          "name": "stdout",
          "text": [
            "G*v* G**k N*tw*rk\n"
          ]
        }
      ]
    },
    {
      "cell_type": "code",
      "source": [
        "D=''\n",
        "\n",
        "for i in S:\n",
        "  if i in 'aeiouAEIOU':\n",
        "    D=D+'*'\n",
        "  else:\n",
        "    D=D+i\n",
        "print(D)"
      ],
      "metadata": {
        "colab": {
          "base_uri": "https://localhost:8080/"
        },
        "id": "RtIu2rETiJQ9",
        "outputId": "460ca817-6ce4-4333-b708-f931825d103e"
      },
      "execution_count": null,
      "outputs": [
        {
          "output_type": "stream",
          "name": "stdout",
          "text": [
            "G*v* G**k N*tw*rk\n"
          ]
        }
      ]
    },
    {
      "cell_type": "code",
      "source": [
        "S=[1,2,3,4,5, 5 ,9 ,7, 8]  #n-1\n",
        "#  0 1 2 3 4\n",
        "len(S)"
      ],
      "metadata": {
        "colab": {
          "base_uri": "https://localhost:8080/"
        },
        "id": "IjGWepLUkWCO",
        "outputId": "3773f0bf-4871-4206-fd64-a842c570dcdd"
      },
      "execution_count": null,
      "outputs": [
        {
          "output_type": "execute_result",
          "data": {
            "text/plain": [
              "5"
            ]
          },
          "metadata": {},
          "execution_count": 60
        }
      ]
    },
    {
      "cell_type": "code",
      "source": [
        "#0 to 10\n",
        "\n",
        "for i in range(10+1):\n",
        "  print(i)"
      ],
      "metadata": {
        "colab": {
          "base_uri": "https://localhost:8080/"
        },
        "id": "a2NyRbtCjRI5",
        "outputId": "a19dcfb3-44ca-4512-a1cf-c30500dcc039"
      },
      "execution_count": null,
      "outputs": [
        {
          "output_type": "stream",
          "name": "stdout",
          "text": [
            "0\n",
            "1\n",
            "2\n",
            "3\n",
            "4\n",
            "5\n",
            "6\n",
            "7\n",
            "8\n",
            "9\n",
            "10\n"
          ]
        }
      ]
    },
    {
      "cell_type": "code",
      "source": [
        "# 5 to 25\n",
        "\n",
        "for i in range(5,25+1):\n",
        "  print(i)"
      ],
      "metadata": {
        "colab": {
          "base_uri": "https://localhost:8080/"
        },
        "id": "axCFd0HGlK4T",
        "outputId": "5273b097-9003-4032-cd1f-c66e82bf7218"
      },
      "execution_count": null,
      "outputs": [
        {
          "output_type": "stream",
          "name": "stdout",
          "text": [
            "5\n",
            "6\n",
            "7\n",
            "8\n",
            "9\n",
            "10\n",
            "11\n",
            "12\n",
            "13\n",
            "14\n",
            "15\n",
            "16\n",
            "17\n",
            "18\n",
            "19\n",
            "20\n",
            "21\n",
            "22\n",
            "23\n",
            "24\n",
            "25\n"
          ]
        }
      ]
    },
    {
      "cell_type": "code",
      "source": [
        "#5 to 25 / 5,8,11,14,17,20,23\n",
        "\n",
        "for i in range(5,26+1,3):\n",
        "  print(i)"
      ],
      "metadata": {
        "colab": {
          "base_uri": "https://localhost:8080/"
        },
        "id": "YFLbFu8UlVGg",
        "outputId": "82fc528d-1d60-4561-fb7b-c21059dd0cfa"
      },
      "execution_count": null,
      "outputs": [
        {
          "output_type": "stream",
          "name": "stdout",
          "text": [
            "5\n",
            "8\n",
            "11\n",
            "14\n",
            "17\n",
            "20\n",
            "23\n",
            "26\n"
          ]
        }
      ]
    },
    {
      "cell_type": "code",
      "source": [
        "#100 to 80\n",
        "for i in range(100,80-1,-1):\n",
        "  print(i)"
      ],
      "metadata": {
        "colab": {
          "base_uri": "https://localhost:8080/"
        },
        "id": "jhrFNcwolqFy",
        "outputId": "8541a80d-5f4c-4529-c255-2a2abcf6a724"
      },
      "execution_count": null,
      "outputs": [
        {
          "output_type": "stream",
          "name": "stdout",
          "text": [
            "100\n",
            "99\n",
            "98\n",
            "97\n",
            "96\n",
            "95\n",
            "94\n",
            "93\n",
            "92\n",
            "91\n",
            "90\n",
            "89\n",
            "88\n",
            "87\n",
            "86\n",
            "85\n",
            "84\n",
            "83\n",
            "82\n",
            "81\n",
            "80\n"
          ]
        }
      ]
    },
    {
      "cell_type": "code",
      "source": [
        "#10 to 6\n",
        "\n",
        "for i in range(10,6-1,-1):\n",
        "  print(i)"
      ],
      "metadata": {
        "colab": {
          "base_uri": "https://localhost:8080/"
        },
        "id": "y2p8LIvUpNBz",
        "outputId": "43c14149-5adb-491f-d4da-59d47c2543d1"
      },
      "execution_count": null,
      "outputs": [
        {
          "output_type": "stream",
          "name": "stdout",
          "text": [
            "10\n",
            "9\n",
            "8\n",
            "7\n",
            "6\n"
          ]
        }
      ]
    },
    {
      "cell_type": "code",
      "source": [
        "#100 TO 80 100 96 92 88 84 80\n",
        "\n",
        "for i in range(100,80-1,-4):\n",
        "  print(i)"
      ],
      "metadata": {
        "colab": {
          "base_uri": "https://localhost:8080/"
        },
        "id": "qsPL8_zgmqcg",
        "outputId": "80b04731-c5d4-47f7-dd7c-5f0df4607ae3"
      },
      "execution_count": null,
      "outputs": [
        {
          "output_type": "stream",
          "name": "stdout",
          "text": [
            "100\n",
            "96\n",
            "92\n",
            "88\n",
            "84\n",
            "80\n"
          ]
        }
      ]
    },
    {
      "cell_type": "code",
      "source": [
        "S=[12,45,78,96,53,11,45,62,88,99,8,9]\n",
        "\n",
        "Odd=[]\n",
        "Even=[]\n",
        "\n",
        "for i in S:\n",
        "  if i%2==0:\n",
        "    Even.append(i)\n",
        "  else:\n",
        "    Odd.append(i)\n",
        "\n",
        "print(*Even)\n",
        "print(*Odd)"
      ],
      "metadata": {
        "colab": {
          "base_uri": "https://localhost:8080/"
        },
        "id": "qxZQuYgwnOIu",
        "outputId": "0bb72f54-a8a4-4d20-edf4-44ba2d01850b"
      },
      "execution_count": null,
      "outputs": [
        {
          "output_type": "stream",
          "name": "stdout",
          "text": [
            "12 78 96 62 88 8\n",
            "45 53 11 45 99 9\n"
          ]
        }
      ]
    },
    {
      "cell_type": "code",
      "source": [
        "S=[12,45,78,96,53,11,45,62,88,99,8,9]\n",
        "len(S)"
      ],
      "metadata": {
        "colab": {
          "base_uri": "https://localhost:8080/"
        },
        "id": "HrA_Du7MngZD",
        "outputId": "92279332-4629-4e77-b00e-85e325d4fdb3"
      },
      "execution_count": null,
      "outputs": [
        {
          "output_type": "execute_result",
          "data": {
            "text/plain": [
              "12"
            ]
          },
          "metadata": {},
          "execution_count": 70
        }
      ]
    },
    {
      "cell_type": "code",
      "source": [
        "\n",
        "S[0]"
      ],
      "metadata": {
        "colab": {
          "base_uri": "https://localhost:8080/"
        },
        "id": "fkuIgdmdnzsv",
        "outputId": "850f7ff3-5b84-4530-c8ae-b15a8599f829"
      },
      "execution_count": null,
      "outputs": [
        {
          "output_type": "execute_result",
          "data": {
            "text/plain": [
              "12"
            ]
          },
          "metadata": {},
          "execution_count": 73
        }
      ]
    },
    {
      "cell_type": "code",
      "source": [
        "S=[12,45,78,96,53,11,45,62,88,99,8,9]\n",
        "\n",
        "for i in range(0,len(S)):\n",
        "  print(S[i])"
      ],
      "metadata": {
        "colab": {
          "base_uri": "https://localhost:8080/"
        },
        "id": "Hpc_aOOOnVd_",
        "outputId": "1594dbe7-579b-471e-cf02-7b25f0d16cd3"
      },
      "execution_count": null,
      "outputs": [
        {
          "output_type": "stream",
          "name": "stdout",
          "text": [
            "12\n",
            "45\n",
            "78\n",
            "96\n",
            "53\n",
            "11\n",
            "45\n",
            "62\n",
            "88\n",
            "99\n",
            "8\n",
            "9\n"
          ]
        }
      ]
    },
    {
      "cell_type": "code",
      "source": [
        "S=[12,45,78,96,53,11,45,62,88,99,8,9]\n",
        "len(S)"
      ],
      "metadata": {
        "colab": {
          "base_uri": "https://localhost:8080/"
        },
        "id": "L-hl_ddbic8m",
        "outputId": "d9664652-ff8f-4b67-abe9-22edfdb0f495"
      },
      "execution_count": null,
      "outputs": [
        {
          "output_type": "execute_result",
          "data": {
            "text/plain": [
              "12"
            ]
          },
          "metadata": {},
          "execution_count": 1
        }
      ]
    },
    {
      "cell_type": "code",
      "source": [
        "S=[12,45,78,96,53,11,45,62,88,99,8,9]\n",
        "Odd=[]\n",
        "Even=[]\n",
        "\n",
        "for i in range(0,len(S)):\n",
        "  if S[i]%2==0:\n",
        "    Even.append(S[i])\n",
        "  else:\n",
        "    Odd.append(S[i])\n",
        "print(Even)\n",
        "print(Odd)"
      ],
      "metadata": {
        "colab": {
          "base_uri": "https://localhost:8080/"
        },
        "id": "dje2xdBMiCtk",
        "outputId": "c0bef12c-771b-4f92-8980-fd3f930f162d"
      },
      "execution_count": null,
      "outputs": [
        {
          "output_type": "stream",
          "name": "stdout",
          "text": [
            "[12, 78, 96, 62, 88, 8]\n",
            "[45, 53, 11, 45, 99, 9]\n"
          ]
        }
      ]
    },
    {
      "cell_type": "code",
      "source": [
        "A=[1,2,3,4,5]\n",
        "B=[10,20,30,40,50,60]\n",
        "\n",
        "for i,j in zip(A,B):\n",
        "  print(i+j)\n"
      ],
      "metadata": {
        "colab": {
          "base_uri": "https://localhost:8080/"
        },
        "id": "I4tlL4UwjHWO",
        "outputId": "7e9b3ba3-6e27-418b-a753-df9685c2c245"
      },
      "execution_count": null,
      "outputs": [
        {
          "output_type": "stream",
          "name": "stdout",
          "text": [
            "11\n",
            "22\n",
            "33\n",
            "44\n",
            "55\n"
          ]
        }
      ]
    },
    {
      "cell_type": "code",
      "source": [
        "Product={'Pro_Name':['Sugar','Salt','Rice','Dhall','Oil'],\n",
        "         'Qty':[5,2,10,3,2],\n",
        "         'Price':[40,20,55,70,200]}"
      ],
      "metadata": {
        "id": "zN9LFPhXkEz5"
      },
      "execution_count": null,
      "outputs": []
    },
    {
      "cell_type": "code",
      "source": [
        "Product['Total Price']=[]\n",
        "Product"
      ],
      "metadata": {
        "colab": {
          "base_uri": "https://localhost:8080/"
        },
        "id": "i3mmw9vykuVW",
        "outputId": "1add6472-4c04-425f-96f1-ef190a8e3f30"
      },
      "execution_count": null,
      "outputs": [
        {
          "output_type": "execute_result",
          "data": {
            "text/plain": [
              "{'Price': [40, 20, 55, 70, 200],\n",
              " 'Pro_Name': ['Sugar', 'Salt', 'Rice', 'Dhall', 'Oil'],\n",
              " 'Qty': [5, 2, 10, 3, 2],\n",
              " 'Total Price': []}"
            ]
          },
          "metadata": {},
          "execution_count": 8
        }
      ]
    },
    {
      "cell_type": "code",
      "source": [
        "for p,q in zip(Product['Price'],Product['Qty']):\n",
        "  T=p*q\n",
        "  Product['Total Price'].append(T)\n",
        "Product"
      ],
      "metadata": {
        "colab": {
          "base_uri": "https://localhost:8080/"
        },
        "id": "JkzYzwdflPMo",
        "outputId": "951b6f4e-75ba-489c-ee7f-8eacbf5c54f4"
      },
      "execution_count": null,
      "outputs": [
        {
          "output_type": "execute_result",
          "data": {
            "text/plain": [
              "{'Price': [40, 20, 55, 70, 200],\n",
              " 'Pro_Name': ['Sugar', 'Salt', 'Rice', 'Dhall', 'Oil'],\n",
              " 'Qty': [5, 2, 10, 3, 2],\n",
              " 'Total Price': [200, 40, 550, 210, 400]}"
            ]
          },
          "metadata": {},
          "execution_count": 9
        }
      ]
    },
    {
      "cell_type": "code",
      "source": [
        "import pandas as pd"
      ],
      "metadata": {
        "id": "Oy_Nht1loOeo"
      },
      "execution_count": null,
      "outputs": []
    },
    {
      "cell_type": "code",
      "source": [
        "data=pd.DataFrame(Product)\n",
        "data"
      ],
      "metadata": {
        "colab": {
          "base_uri": "https://localhost:8080/",
          "height": 206
        },
        "id": "bacNT7rWoRsM",
        "outputId": "553bdddc-09f0-4b27-cb45-ab9b5f318f0a"
      },
      "execution_count": null,
      "outputs": [
        {
          "output_type": "execute_result",
          "data": {
            "text/plain": [
              "  Pro_Name  Qty  Price  Total Price\n",
              "0    Sugar    5     40          200\n",
              "1     Salt    2     20           40\n",
              "2     Rice   10     55          550\n",
              "3    Dhall    3     70          210\n",
              "4      Oil    2    200          400"
            ],
            "text/html": [
              "\n",
              "  <div id=\"df-9f928c1b-c5fc-422a-8bb6-0bfd528773c2\">\n",
              "    <div class=\"colab-df-container\">\n",
              "      <div>\n",
              "<style scoped>\n",
              "    .dataframe tbody tr th:only-of-type {\n",
              "        vertical-align: middle;\n",
              "    }\n",
              "\n",
              "    .dataframe tbody tr th {\n",
              "        vertical-align: top;\n",
              "    }\n",
              "\n",
              "    .dataframe thead th {\n",
              "        text-align: right;\n",
              "    }\n",
              "</style>\n",
              "<table border=\"1\" class=\"dataframe\">\n",
              "  <thead>\n",
              "    <tr style=\"text-align: right;\">\n",
              "      <th></th>\n",
              "      <th>Pro_Name</th>\n",
              "      <th>Qty</th>\n",
              "      <th>Price</th>\n",
              "      <th>Total Price</th>\n",
              "    </tr>\n",
              "  </thead>\n",
              "  <tbody>\n",
              "    <tr>\n",
              "      <th>0</th>\n",
              "      <td>Sugar</td>\n",
              "      <td>5</td>\n",
              "      <td>40</td>\n",
              "      <td>200</td>\n",
              "    </tr>\n",
              "    <tr>\n",
              "      <th>1</th>\n",
              "      <td>Salt</td>\n",
              "      <td>2</td>\n",
              "      <td>20</td>\n",
              "      <td>40</td>\n",
              "    </tr>\n",
              "    <tr>\n",
              "      <th>2</th>\n",
              "      <td>Rice</td>\n",
              "      <td>10</td>\n",
              "      <td>55</td>\n",
              "      <td>550</td>\n",
              "    </tr>\n",
              "    <tr>\n",
              "      <th>3</th>\n",
              "      <td>Dhall</td>\n",
              "      <td>3</td>\n",
              "      <td>70</td>\n",
              "      <td>210</td>\n",
              "    </tr>\n",
              "    <tr>\n",
              "      <th>4</th>\n",
              "      <td>Oil</td>\n",
              "      <td>2</td>\n",
              "      <td>200</td>\n",
              "      <td>400</td>\n",
              "    </tr>\n",
              "  </tbody>\n",
              "</table>\n",
              "</div>\n",
              "      <button class=\"colab-df-convert\" onclick=\"convertToInteractive('df-9f928c1b-c5fc-422a-8bb6-0bfd528773c2')\"\n",
              "              title=\"Convert this dataframe to an interactive table.\"\n",
              "              style=\"display:none;\">\n",
              "        \n",
              "  <svg xmlns=\"http://www.w3.org/2000/svg\" height=\"24px\"viewBox=\"0 0 24 24\"\n",
              "       width=\"24px\">\n",
              "    <path d=\"M0 0h24v24H0V0z\" fill=\"none\"/>\n",
              "    <path d=\"M18.56 5.44l.94 2.06.94-2.06 2.06-.94-2.06-.94-.94-2.06-.94 2.06-2.06.94zm-11 1L8.5 8.5l.94-2.06 2.06-.94-2.06-.94L8.5 2.5l-.94 2.06-2.06.94zm10 10l.94 2.06.94-2.06 2.06-.94-2.06-.94-.94-2.06-.94 2.06-2.06.94z\"/><path d=\"M17.41 7.96l-1.37-1.37c-.4-.4-.92-.59-1.43-.59-.52 0-1.04.2-1.43.59L10.3 9.45l-7.72 7.72c-.78.78-.78 2.05 0 2.83L4 21.41c.39.39.9.59 1.41.59.51 0 1.02-.2 1.41-.59l7.78-7.78 2.81-2.81c.8-.78.8-2.07 0-2.86zM5.41 20L4 18.59l7.72-7.72 1.47 1.35L5.41 20z\"/>\n",
              "  </svg>\n",
              "      </button>\n",
              "      \n",
              "  <style>\n",
              "    .colab-df-container {\n",
              "      display:flex;\n",
              "      flex-wrap:wrap;\n",
              "      gap: 12px;\n",
              "    }\n",
              "\n",
              "    .colab-df-convert {\n",
              "      background-color: #E8F0FE;\n",
              "      border: none;\n",
              "      border-radius: 50%;\n",
              "      cursor: pointer;\n",
              "      display: none;\n",
              "      fill: #1967D2;\n",
              "      height: 32px;\n",
              "      padding: 0 0 0 0;\n",
              "      width: 32px;\n",
              "    }\n",
              "\n",
              "    .colab-df-convert:hover {\n",
              "      background-color: #E2EBFA;\n",
              "      box-shadow: 0px 1px 2px rgba(60, 64, 67, 0.3), 0px 1px 3px 1px rgba(60, 64, 67, 0.15);\n",
              "      fill: #174EA6;\n",
              "    }\n",
              "\n",
              "    [theme=dark] .colab-df-convert {\n",
              "      background-color: #3B4455;\n",
              "      fill: #D2E3FC;\n",
              "    }\n",
              "\n",
              "    [theme=dark] .colab-df-convert:hover {\n",
              "      background-color: #434B5C;\n",
              "      box-shadow: 0px 1px 3px 1px rgba(0, 0, 0, 0.15);\n",
              "      filter: drop-shadow(0px 1px 2px rgba(0, 0, 0, 0.3));\n",
              "      fill: #FFFFFF;\n",
              "    }\n",
              "  </style>\n",
              "\n",
              "      <script>\n",
              "        const buttonEl =\n",
              "          document.querySelector('#df-9f928c1b-c5fc-422a-8bb6-0bfd528773c2 button.colab-df-convert');\n",
              "        buttonEl.style.display =\n",
              "          google.colab.kernel.accessAllowed ? 'block' : 'none';\n",
              "\n",
              "        async function convertToInteractive(key) {\n",
              "          const element = document.querySelector('#df-9f928c1b-c5fc-422a-8bb6-0bfd528773c2');\n",
              "          const dataTable =\n",
              "            await google.colab.kernel.invokeFunction('convertToInteractive',\n",
              "                                                     [key], {});\n",
              "          if (!dataTable) return;\n",
              "\n",
              "          const docLinkHtml = 'Like what you see? Visit the ' +\n",
              "            '<a target=\"_blank\" href=https://colab.research.google.com/notebooks/data_table.ipynb>data table notebook</a>'\n",
              "            + ' to learn more about interactive tables.';\n",
              "          element.innerHTML = '';\n",
              "          dataTable['output_type'] = 'display_data';\n",
              "          await google.colab.output.renderOutput(dataTable, element);\n",
              "          const docLink = document.createElement('div');\n",
              "          docLink.innerHTML = docLinkHtml;\n",
              "          element.appendChild(docLink);\n",
              "        }\n",
              "      </script>\n",
              "    </div>\n",
              "  </div>\n",
              "  "
            ]
          },
          "metadata": {},
          "execution_count": 11
        }
      ]
    },
    {
      "cell_type": "code",
      "source": [
        "#Task-3\n",
        "Gst_5=['Salt','Milk','Soap'] #Gst 5%\n",
        "Gst_12=['Sugar','Rice','SurfXL','toothpastes'] #Gst 12%\n",
        "Gst_18=['Oil','Dhall','Domex','Perfume'] #Gst 18%\n",
        "\n",
        "Product['Total Price']=[]\n",
        "\n",
        "Product['GST-Total-Price']=[]\n",
        "\n",
        "for n,p,q in zip(Product['Pro_Name'],Product['Price'],Product['Qty']):\n",
        "  T=p*q\n",
        "  Product['Total Price'].append(T)\n",
        "\n",
        "  if n in Gst_5:\n",
        "    GT=T+(T*0.05)\n",
        "    Product['GST-Total-Price'].append(GT)\n",
        "  elif n in Gst_12:\n",
        "    GT=T+(T*0.12)\n",
        "    Product['GST-Total-Price'].append(GT)\n",
        "  elif n in Gst_18:\n",
        "    GT=T+(T*0.18)\n",
        "    Product['GST-Total-Price'].append(GT)\n",
        "\n",
        "Product\n",
        "\n"
      ],
      "metadata": {
        "colab": {
          "base_uri": "https://localhost:8080/"
        },
        "id": "yNcbbLYMm4HT",
        "outputId": "aed5f240-b29f-4fd2-80d6-9076fbdeebcd"
      },
      "execution_count": null,
      "outputs": [
        {
          "output_type": "execute_result",
          "data": {
            "text/plain": [
              "{'GST-Total-Price': [224.0, 42.0, 616.0, 247.8, 472.0],\n",
              " 'Price': [40, 20, 55, 70, 200],\n",
              " 'Pro_Name': ['Sugar', 'Salt', 'Rice', 'Dhall', 'Oil'],\n",
              " 'Qty': [5, 2, 10, 3, 2],\n",
              " 'Total Price': [200, 40, 550, 210, 400]}"
            ]
          },
          "metadata": {},
          "execution_count": 13
        }
      ]
    },
    {
      "cell_type": "code",
      "source": [
        "sum(Product['GST-Total-Price'])"
      ],
      "metadata": {
        "colab": {
          "base_uri": "https://localhost:8080/"
        },
        "id": "ClNcwpP5tqqS",
        "outputId": "b7d79a6c-9617-4497-bdb7-76c6508b313d"
      },
      "execution_count": null,
      "outputs": [
        {
          "output_type": "execute_result",
          "data": {
            "text/plain": [
              "1601.8"
            ]
          },
          "metadata": {},
          "execution_count": 14
        }
      ]
    },
    {
      "cell_type": "code",
      "source": [
        "data=pd.DataFrame(Product)\n",
        "data"
      ],
      "metadata": {
        "colab": {
          "base_uri": "https://localhost:8080/",
          "height": 206
        },
        "id": "pACT-uIVtz2p",
        "outputId": "e55c538e-b14e-463e-817f-13743da6b3bd"
      },
      "execution_count": null,
      "outputs": [
        {
          "output_type": "execute_result",
          "data": {
            "text/plain": [
              "  Pro_Name  Qty  Price  Total Price  GST-Total-Price\n",
              "0    Sugar    5     40          200            224.0\n",
              "1     Salt    2     20           40             42.0\n",
              "2     Rice   10     55          550            616.0\n",
              "3    Dhall    3     70          210            247.8\n",
              "4      Oil    2    200          400            472.0"
            ],
            "text/html": [
              "\n",
              "  <div id=\"df-45663c33-c1cf-4370-847f-2bc1f8fb361e\">\n",
              "    <div class=\"colab-df-container\">\n",
              "      <div>\n",
              "<style scoped>\n",
              "    .dataframe tbody tr th:only-of-type {\n",
              "        vertical-align: middle;\n",
              "    }\n",
              "\n",
              "    .dataframe tbody tr th {\n",
              "        vertical-align: top;\n",
              "    }\n",
              "\n",
              "    .dataframe thead th {\n",
              "        text-align: right;\n",
              "    }\n",
              "</style>\n",
              "<table border=\"1\" class=\"dataframe\">\n",
              "  <thead>\n",
              "    <tr style=\"text-align: right;\">\n",
              "      <th></th>\n",
              "      <th>Pro_Name</th>\n",
              "      <th>Qty</th>\n",
              "      <th>Price</th>\n",
              "      <th>Total Price</th>\n",
              "      <th>GST-Total-Price</th>\n",
              "    </tr>\n",
              "  </thead>\n",
              "  <tbody>\n",
              "    <tr>\n",
              "      <th>0</th>\n",
              "      <td>Sugar</td>\n",
              "      <td>5</td>\n",
              "      <td>40</td>\n",
              "      <td>200</td>\n",
              "      <td>224.0</td>\n",
              "    </tr>\n",
              "    <tr>\n",
              "      <th>1</th>\n",
              "      <td>Salt</td>\n",
              "      <td>2</td>\n",
              "      <td>20</td>\n",
              "      <td>40</td>\n",
              "      <td>42.0</td>\n",
              "    </tr>\n",
              "    <tr>\n",
              "      <th>2</th>\n",
              "      <td>Rice</td>\n",
              "      <td>10</td>\n",
              "      <td>55</td>\n",
              "      <td>550</td>\n",
              "      <td>616.0</td>\n",
              "    </tr>\n",
              "    <tr>\n",
              "      <th>3</th>\n",
              "      <td>Dhall</td>\n",
              "      <td>3</td>\n",
              "      <td>70</td>\n",
              "      <td>210</td>\n",
              "      <td>247.8</td>\n",
              "    </tr>\n",
              "    <tr>\n",
              "      <th>4</th>\n",
              "      <td>Oil</td>\n",
              "      <td>2</td>\n",
              "      <td>200</td>\n",
              "      <td>400</td>\n",
              "      <td>472.0</td>\n",
              "    </tr>\n",
              "  </tbody>\n",
              "</table>\n",
              "</div>\n",
              "      <button class=\"colab-df-convert\" onclick=\"convertToInteractive('df-45663c33-c1cf-4370-847f-2bc1f8fb361e')\"\n",
              "              title=\"Convert this dataframe to an interactive table.\"\n",
              "              style=\"display:none;\">\n",
              "        \n",
              "  <svg xmlns=\"http://www.w3.org/2000/svg\" height=\"24px\"viewBox=\"0 0 24 24\"\n",
              "       width=\"24px\">\n",
              "    <path d=\"M0 0h24v24H0V0z\" fill=\"none\"/>\n",
              "    <path d=\"M18.56 5.44l.94 2.06.94-2.06 2.06-.94-2.06-.94-.94-2.06-.94 2.06-2.06.94zm-11 1L8.5 8.5l.94-2.06 2.06-.94-2.06-.94L8.5 2.5l-.94 2.06-2.06.94zm10 10l.94 2.06.94-2.06 2.06-.94-2.06-.94-.94-2.06-.94 2.06-2.06.94z\"/><path d=\"M17.41 7.96l-1.37-1.37c-.4-.4-.92-.59-1.43-.59-.52 0-1.04.2-1.43.59L10.3 9.45l-7.72 7.72c-.78.78-.78 2.05 0 2.83L4 21.41c.39.39.9.59 1.41.59.51 0 1.02-.2 1.41-.59l7.78-7.78 2.81-2.81c.8-.78.8-2.07 0-2.86zM5.41 20L4 18.59l7.72-7.72 1.47 1.35L5.41 20z\"/>\n",
              "  </svg>\n",
              "      </button>\n",
              "      \n",
              "  <style>\n",
              "    .colab-df-container {\n",
              "      display:flex;\n",
              "      flex-wrap:wrap;\n",
              "      gap: 12px;\n",
              "    }\n",
              "\n",
              "    .colab-df-convert {\n",
              "      background-color: #E8F0FE;\n",
              "      border: none;\n",
              "      border-radius: 50%;\n",
              "      cursor: pointer;\n",
              "      display: none;\n",
              "      fill: #1967D2;\n",
              "      height: 32px;\n",
              "      padding: 0 0 0 0;\n",
              "      width: 32px;\n",
              "    }\n",
              "\n",
              "    .colab-df-convert:hover {\n",
              "      background-color: #E2EBFA;\n",
              "      box-shadow: 0px 1px 2px rgba(60, 64, 67, 0.3), 0px 1px 3px 1px rgba(60, 64, 67, 0.15);\n",
              "      fill: #174EA6;\n",
              "    }\n",
              "\n",
              "    [theme=dark] .colab-df-convert {\n",
              "      background-color: #3B4455;\n",
              "      fill: #D2E3FC;\n",
              "    }\n",
              "\n",
              "    [theme=dark] .colab-df-convert:hover {\n",
              "      background-color: #434B5C;\n",
              "      box-shadow: 0px 1px 3px 1px rgba(0, 0, 0, 0.15);\n",
              "      filter: drop-shadow(0px 1px 2px rgba(0, 0, 0, 0.3));\n",
              "      fill: #FFFFFF;\n",
              "    }\n",
              "  </style>\n",
              "\n",
              "      <script>\n",
              "        const buttonEl =\n",
              "          document.querySelector('#df-45663c33-c1cf-4370-847f-2bc1f8fb361e button.colab-df-convert');\n",
              "        buttonEl.style.display =\n",
              "          google.colab.kernel.accessAllowed ? 'block' : 'none';\n",
              "\n",
              "        async function convertToInteractive(key) {\n",
              "          const element = document.querySelector('#df-45663c33-c1cf-4370-847f-2bc1f8fb361e');\n",
              "          const dataTable =\n",
              "            await google.colab.kernel.invokeFunction('convertToInteractive',\n",
              "                                                     [key], {});\n",
              "          if (!dataTable) return;\n",
              "\n",
              "          const docLinkHtml = 'Like what you see? Visit the ' +\n",
              "            '<a target=\"_blank\" href=https://colab.research.google.com/notebooks/data_table.ipynb>data table notebook</a>'\n",
              "            + ' to learn more about interactive tables.';\n",
              "          element.innerHTML = '';\n",
              "          dataTable['output_type'] = 'display_data';\n",
              "          await google.colab.output.renderOutput(dataTable, element);\n",
              "          const docLink = document.createElement('div');\n",
              "          docLink.innerHTML = docLinkHtml;\n",
              "          element.appendChild(docLink);\n",
              "        }\n",
              "      </script>\n",
              "    </div>\n",
              "  </div>\n",
              "  "
            ]
          },
          "metadata": {},
          "execution_count": 15
        }
      ]
    },
    {
      "cell_type": "markdown",
      "source": [
        "#While loop"
      ],
      "metadata": {
        "id": "J3c39xmPul7K"
      }
    },
    {
      "cell_type": "code",
      "source": [
        "# 0 to 10\n",
        "for i in range(11):\n",
        "  print(i)"
      ],
      "metadata": {
        "colab": {
          "base_uri": "https://localhost:8080/"
        },
        "id": "GYteG6LcuI6z",
        "outputId": "675d8bee-779b-4f4a-d4a9-ae866eb5a601"
      },
      "execution_count": null,
      "outputs": [
        {
          "output_type": "stream",
          "name": "stdout",
          "text": [
            "0\n",
            "1\n",
            "2\n",
            "3\n",
            "4\n",
            "5\n",
            "6\n",
            "7\n",
            "8\n",
            "9\n",
            "10\n"
          ]
        }
      ]
    },
    {
      "cell_type": "code",
      "source": [
        "# 0 to 10\n",
        "\n",
        "i=0\n",
        "\n",
        "while i<=5:\n",
        "  print(i)\n",
        "  i=i+1"
      ],
      "metadata": {
        "colab": {
          "base_uri": "https://localhost:8080/"
        },
        "id": "CrsxqxwIvGMD",
        "outputId": "1d18f7f4-5490-4a6a-f325-6881729a96c5"
      },
      "execution_count": null,
      "outputs": [
        {
          "output_type": "stream",
          "name": "stdout",
          "text": [
            "0\n",
            "1\n",
            "2\n",
            "3\n",
            "4\n",
            "5\n"
          ]
        }
      ]
    },
    {
      "cell_type": "code",
      "source": [
        ""
      ],
      "metadata": {
        "id": "ZW3oUlhtwXN3"
      },
      "execution_count": null,
      "outputs": []
    },
    {
      "cell_type": "code",
      "source": [
        "i=0\n",
        "while i<=3:\n",
        "  \n",
        "  print(i)\n",
        "  i=i+1"
      ],
      "metadata": {
        "colab": {
          "base_uri": "https://localhost:8080/"
        },
        "id": "d-hM9jkGv017",
        "outputId": "1db3e5d3-b3e7-4b2e-f531-bfdd43a5bf65"
      },
      "execution_count": null,
      "outputs": [
        {
          "output_type": "stream",
          "name": "stdout",
          "text": [
            "0\n",
            "1\n",
            "2\n",
            "3\n"
          ]
        }
      ]
    },
    {
      "cell_type": "code",
      "source": [
        "i=0\n",
        "while i<=20:\n",
        "  i=i+1\n",
        "  print(i)\n",
        "  i=i+2"
      ],
      "metadata": {
        "id": "0TqoMUtwxAPl"
      },
      "execution_count": null,
      "outputs": []
    },
    {
      "cell_type": "code",
      "source": [
        "S='Guvi Geek Networking' # G*v* G**k N*tw*rk\n",
        "\n",
        "i=0\n",
        "D=[]\n",
        "while i<len(S):\n",
        "  if S[i] in 'aeiouAEIOU':\n",
        "    \n",
        "    D.append('*')\n",
        "    i=i+1\n",
        "    \n",
        "  else:\n",
        "    \n",
        "    D.append(S[i])\n",
        "    i=i+1\n",
        "    \n",
        "  \n",
        "\n",
        "print(''.join(D))\n"
      ],
      "metadata": {
        "colab": {
          "base_uri": "https://localhost:8080/"
        },
        "id": "zy1s4xHqx1DO",
        "outputId": "2165f997-164f-4386-a6ce-08a148194525"
      },
      "execution_count": null,
      "outputs": [
        {
          "output_type": "stream",
          "name": "stdout",
          "text": [
            "G*v* G**k N*tw*rk*ng\n"
          ]
        }
      ]
    },
    {
      "cell_type": "code",
      "source": [
        "N=10\n",
        "\n",
        "i=1\n",
        "while i<=5:\n",
        "  print(N)\n",
        "  i=i+1"
      ],
      "metadata": {
        "colab": {
          "base_uri": "https://localhost:8080/"
        },
        "id": "U1YaatjH0Z3r",
        "outputId": "735da6cb-6889-4763-e8d1-ed4cbfbf2ae6"
      },
      "execution_count": null,
      "outputs": [
        {
          "output_type": "stream",
          "name": "stdout",
          "text": [
            "10\n",
            "10\n",
            "10\n",
            "10\n",
            "10\n"
          ]
        }
      ]
    },
    {
      "cell_type": "code",
      "source": [
        "S=[1,2,6,8,9,5,6,3,4,7,8,6,2,8,9]\n",
        "\n",
        "I=0\n",
        "\n",
        "while I<len(S):\n",
        "  if S[I]==6:\n",
        "    break\n",
        "\n",
        "  else: \n",
        "    print(S[I])\n",
        "    I=I+1\n"
      ],
      "metadata": {
        "colab": {
          "base_uri": "https://localhost:8080/"
        },
        "id": "dx1ONHUp1Ye1",
        "outputId": "603da0ac-5fcc-4982-a489-26501f8e258d"
      },
      "execution_count": null,
      "outputs": [
        {
          "output_type": "stream",
          "name": "stdout",
          "text": [
            "1\n",
            "2\n"
          ]
        }
      ]
    },
    {
      "cell_type": "code",
      "source": [
        "S=[1,2,6,8,9,5,6,3,4,7,8,6,2,8,9]\n",
        "\n",
        "I=0\n",
        "\n",
        "while I<len(S):\n",
        "  if S[I]==6:\n",
        "    pass\n",
        "    I=I+1\n",
        "\n",
        "  else: \n",
        "    print(S[I])\n",
        "    I=I+1\n"
      ],
      "metadata": {
        "colab": {
          "base_uri": "https://localhost:8080/"
        },
        "id": "owRGqbJx2Qvs",
        "outputId": "19a0157e-a637-43cc-c0ff-4f4d70eee616"
      },
      "execution_count": null,
      "outputs": [
        {
          "output_type": "stream",
          "name": "stdout",
          "text": [
            "1\n",
            "2\n",
            "8\n",
            "9\n",
            "5\n",
            "3\n",
            "4\n",
            "7\n",
            "8\n",
            "2\n",
            "8\n",
            "9\n"
          ]
        }
      ]
    },
    {
      "cell_type": "code",
      "source": [
        "S=[1,2,6,8,9,5,6,3,4,7,8,6,2,8,9]\n",
        "\n",
        "I=0\n",
        "\n",
        "while I<len(S):\n",
        "  if S[I]==6:\n",
        "    I=I+1\n",
        "    continue\n",
        "    \n",
        "\n",
        "  else: \n",
        "    print(S[I])\n",
        "    I=I+1\n"
      ],
      "metadata": {
        "colab": {
          "base_uri": "https://localhost:8080/"
        },
        "id": "Ry9Sm_4-2fUz",
        "outputId": "4124936e-cdce-43d2-eb4a-b8164971964c"
      },
      "execution_count": null,
      "outputs": [
        {
          "output_type": "stream",
          "name": "stdout",
          "text": [
            "1\n",
            "2\n",
            "8\n",
            "9\n",
            "5\n",
            "3\n",
            "4\n",
            "7\n",
            "8\n",
            "2\n",
            "8\n",
            "9\n"
          ]
        }
      ]
    },
    {
      "cell_type": "code",
      "source": [
        "\n",
        "\n",
        "for i in S:\n",
        "  if i==6:\n",
        "    continue\n",
        "    print('Sucess')\n",
        "  else:\n",
        "    print(i)"
      ],
      "metadata": {
        "colab": {
          "base_uri": "https://localhost:8080/"
        },
        "id": "eeg-rNcx3qEF",
        "outputId": "7aa26342-9f17-4ea4-98d3-1584eb86fdff"
      },
      "execution_count": null,
      "outputs": [
        {
          "output_type": "stream",
          "name": "stdout",
          "text": [
            "1\n",
            "2\n",
            "8\n",
            "9\n",
            "5\n",
            "3\n",
            "4\n",
            "7\n",
            "8\n",
            "2\n",
            "8\n",
            "9\n"
          ]
        }
      ]
    },
    {
      "cell_type": "code",
      "source": [
        "for i in S:\n",
        "  if i==6:\n",
        "    pass\n",
        "    print('Sucess')\n",
        "  else:\n",
        "    print(i)"
      ],
      "metadata": {
        "colab": {
          "base_uri": "https://localhost:8080/"
        },
        "id": "i1pnCghP32Ez",
        "outputId": "30dc559d-9082-47c8-fb39-628dae572472"
      },
      "execution_count": null,
      "outputs": [
        {
          "output_type": "stream",
          "name": "stdout",
          "text": [
            "1\n",
            "2\n",
            "Sucess\n",
            "8\n",
            "9\n",
            "5\n",
            "Sucess\n",
            "3\n",
            "4\n",
            "7\n",
            "8\n",
            "Sucess\n",
            "2\n",
            "8\n",
            "9\n"
          ]
        }
      ]
    },
    {
      "cell_type": "markdown",
      "source": [
        "#Function"
      ],
      "metadata": {
        "id": "4VsydLAT4k-R"
      }
    },
    {
      "cell_type": "code",
      "source": [
        "#print(),input(),sum(),append(),max(),min()........\n",
        "\n",
        "S=[1,2,3,4,5]\n",
        "\n",
        "sum(S)"
      ],
      "metadata": {
        "colab": {
          "base_uri": "https://localhost:8080/"
        },
        "id": "_4urHo1m4kJn",
        "outputId": "b46920d4-7ac2-48b2-daf0-682a6b094690"
      },
      "execution_count": null,
      "outputs": [
        {
          "output_type": "execute_result",
          "data": {
            "text/plain": [
              "15"
            ]
          },
          "metadata": {},
          "execution_count": 26
        }
      ]
    },
    {
      "cell_type": "code",
      "source": [
        "T=0\n",
        "for i in S:\n",
        "  T=T+i\n",
        "\n",
        "T"
      ],
      "metadata": {
        "colab": {
          "base_uri": "https://localhost:8080/"
        },
        "id": "CUtAr6EB5EzB",
        "outputId": "010ae03c-a6ec-456f-c74c-e746fd045d0c"
      },
      "execution_count": null,
      "outputs": [
        {
          "output_type": "execute_result",
          "data": {
            "text/plain": [
              "15"
            ]
          },
          "metadata": {},
          "execution_count": 27
        }
      ]
    },
    {
      "cell_type": "code",
      "source": [
        "def Total(x):\n",
        "  T=0\n",
        "  for i in x:\n",
        "    T=T+int(i)  \n",
        "  return T"
      ],
      "metadata": {
        "id": "q5bd6fgd5SVw"
      },
      "execution_count": null,
      "outputs": []
    },
    {
      "cell_type": "code",
      "source": [
        "Total([10,20,'30'])"
      ],
      "metadata": {
        "colab": {
          "base_uri": "https://localhost:8080/"
        },
        "id": "zMTmyGZm5tzI",
        "outputId": "5180782f-a22c-402a-a67f-dfe88a34f5e5"
      },
      "execution_count": null,
      "outputs": [
        {
          "output_type": "execute_result",
          "data": {
            "text/plain": [
              "60"
            ]
          },
          "metadata": {},
          "execution_count": 35
        }
      ]
    },
    {
      "cell_type": "code",
      "source": [
        "Total([4,5,6,7,8,9,4,5,6,1,2,3,4,5,8])"
      ],
      "metadata": {
        "colab": {
          "base_uri": "https://localhost:8080/"
        },
        "id": "LmUeqclU6JlJ",
        "outputId": "149946c9-cbf5-42b8-f867-ea7ac5c3c0e8"
      },
      "execution_count": null,
      "outputs": [
        {
          "output_type": "execute_result",
          "data": {
            "text/plain": [
              "77"
            ]
          },
          "metadata": {},
          "execution_count": 32
        }
      ]
    },
    {
      "cell_type": "code",
      "source": [
        "sum([10,20,'30'])"
      ],
      "metadata": {
        "colab": {
          "base_uri": "https://localhost:8080/",
          "height": 165
        },
        "id": "mGqeKDxH6TyI",
        "outputId": "add187f8-4cc0-404e-83cd-42546370ca11"
      },
      "execution_count": null,
      "outputs": [
        {
          "output_type": "error",
          "ename": "TypeError",
          "evalue": "ignored",
          "traceback": [
            "\u001b[0;31m---------------------------------------------------------------------------\u001b[0m",
            "\u001b[0;31mTypeError\u001b[0m                                 Traceback (most recent call last)",
            "\u001b[0;32m<ipython-input-36-68fb5fdd9589>\u001b[0m in \u001b[0;36m<module>\u001b[0;34m()\u001b[0m\n\u001b[0;32m----> 1\u001b[0;31m \u001b[0msum\u001b[0m\u001b[0;34m(\u001b[0m\u001b[0;34m[\u001b[0m\u001b[0;36m10\u001b[0m\u001b[0;34m,\u001b[0m\u001b[0;36m20\u001b[0m\u001b[0;34m,\u001b[0m\u001b[0;34m'30'\u001b[0m\u001b[0;34m]\u001b[0m\u001b[0;34m)\u001b[0m\u001b[0;34m\u001b[0m\u001b[0;34m\u001b[0m\u001b[0m\n\u001b[0m",
            "\u001b[0;31mTypeError\u001b[0m: unsupported operand type(s) for +: 'int' and 'str'"
          ]
        }
      ]
    },
    {
      "cell_type": "code",
      "source": [
        "def SQR(x):\n",
        "  return x**2\n",
        "\n",
        "def EXP(x,y):\n",
        "  return x**y"
      ],
      "metadata": {
        "id": "HRmQzEMi7L4z"
      },
      "execution_count": null,
      "outputs": []
    },
    {
      "cell_type": "code",
      "source": [
        "SQR(5)"
      ],
      "metadata": {
        "colab": {
          "base_uri": "https://localhost:8080/"
        },
        "id": "OQppPYX_7hVC",
        "outputId": "0f8955a1-9d25-4e67-ca68-b76e43a9768f"
      },
      "execution_count": null,
      "outputs": [
        {
          "output_type": "execute_result",
          "data": {
            "text/plain": [
              "25"
            ]
          },
          "metadata": {},
          "execution_count": 38
        }
      ]
    },
    {
      "cell_type": "code",
      "source": [
        "EXP(5,3)"
      ],
      "metadata": {
        "colab": {
          "base_uri": "https://localhost:8080/"
        },
        "id": "jDbu4Oyf7lqu",
        "outputId": "c8ddb37d-15e3-4182-b3d7-419acd4f5371"
      },
      "execution_count": null,
      "outputs": [
        {
          "output_type": "execute_result",
          "data": {
            "text/plain": [
              "125"
            ]
          },
          "metadata": {},
          "execution_count": 40
        }
      ]
    },
    {
      "cell_type": "code",
      "source": [
        "S=[1,2,3,4,5]\n",
        "\n",
        "D=list(map(SQR,S))\n",
        "D"
      ],
      "metadata": {
        "colab": {
          "base_uri": "https://localhost:8080/"
        },
        "id": "oh_7yyKr71p9",
        "outputId": "62fa88ed-61b8-4969-9674-838292cf6f9a"
      },
      "execution_count": null,
      "outputs": [
        {
          "output_type": "execute_result",
          "data": {
            "text/plain": [
              "[1, 4, 9, 16, 25]"
            ]
          },
          "metadata": {},
          "execution_count": 43
        }
      ]
    },
    {
      "cell_type": "code",
      "source": [
        "def SQR(x):\n",
        "  return x**2\n",
        "\n",
        "def EXP(x,y):\n",
        "  return SQR(x)**y\n",
        "\n",
        "#EXP(5,2)=> 25**2"
      ],
      "metadata": {
        "id": "EkcBdlEq8pTt"
      },
      "execution_count": null,
      "outputs": []
    },
    {
      "cell_type": "code",
      "source": [
        ""
      ],
      "metadata": {
        "colab": {
          "base_uri": "https://localhost:8080/"
        },
        "id": "sALG3BiE89lt",
        "outputId": "52c83c1a-0df8-4b27-efad-59df5dd34769"
      },
      "execution_count": null,
      "outputs": [
        {
          "output_type": "execute_result",
          "data": {
            "text/plain": [
              "625"
            ]
          },
          "metadata": {},
          "execution_count": 45
        }
      ]
    },
    {
      "cell_type": "code",
      "source": [
        "SQR(3)"
      ],
      "metadata": {
        "colab": {
          "base_uri": "https://localhost:8080/"
        },
        "id": "1tIKoumD9Cm3",
        "outputId": "7b0458a0-cd07-4a55-80d9-6f9445b7e229"
      },
      "execution_count": null,
      "outputs": [
        {
          "output_type": "stream",
          "name": "stdout",
          "text": [
            "9\n"
          ]
        }
      ]
    },
    {
      "cell_type": "code",
      "source": [
        "EXP(5,2)"
      ],
      "metadata": {
        "colab": {
          "base_uri": "https://localhost:8080/"
        },
        "id": "jl2krwlo9ENZ",
        "outputId": "8afc84c7-8bc4-4e73-e1b6-294291c842e3"
      },
      "execution_count": null,
      "outputs": [
        {
          "output_type": "execute_result",
          "data": {
            "text/plain": [
              "625"
            ]
          },
          "metadata": {},
          "execution_count": 52
        }
      ]
    },
    {
      "cell_type": "code",
      "source": [
        "\n",
        "def Replace_vow(word):\n",
        "  i=0\n",
        "  D=[]\n",
        "  while i<len(word):\n",
        "    if word[i] in 'aeiouAEIOU':\n",
        "      \n",
        "      D.append('*')\n",
        "      i=i+1\n",
        "    else:\n",
        "      D.append(word[i])\n",
        "      i=i+1 \n",
        "  \n",
        "  return (''.join(D))"
      ],
      "metadata": {
        "id": "tuZlgt0R-Cm6"
      },
      "execution_count": null,
      "outputs": []
    },
    {
      "cell_type": "code",
      "source": [
        "Replace_vow(input())"
      ],
      "metadata": {
        "colab": {
          "base_uri": "https://localhost:8080/",
          "height": 53
        },
        "id": "iBP4WxqY-mwM",
        "outputId": "54995a7b-ed10-4197-86d1-0ecad5ff4882"
      },
      "execution_count": null,
      "outputs": [
        {
          "name": "stdout",
          "output_type": "stream",
          "text": [
            "Guvi Geek Network\n"
          ]
        },
        {
          "output_type": "execute_result",
          "data": {
            "text/plain": [
              "'G*v* G**k N*tw*rk'"
            ],
            "application/vnd.google.colaboratory.intrinsic+json": {
              "type": "string"
            }
          },
          "metadata": {},
          "execution_count": 54
        }
      ]
    },
    {
      "cell_type": "code",
      "source": [
        "Replace_vow(input())"
      ],
      "metadata": {
        "colab": {
          "base_uri": "https://localhost:8080/",
          "height": 53
        },
        "id": "XRTWiBlP-prx",
        "outputId": "b2c03c09-5581-4adf-a9c1-d64e02dde40e"
      },
      "execution_count": null,
      "outputs": [
        {
          "name": "stdout",
          "output_type": "stream",
          "text": [
            "Welcome to Data Science \n"
          ]
        },
        {
          "output_type": "execute_result",
          "data": {
            "text/plain": [
              "'W*lc*m* t* D*t* Sc**nc* '"
            ],
            "application/vnd.google.colaboratory.intrinsic+json": {
              "type": "string"
            }
          },
          "metadata": {},
          "execution_count": 55
        }
      ]
    },
    {
      "cell_type": "code",
      "source": [
        "# Calculator (+,-,*,/,%,pecentage,Sqar,Sqroot, exp...) Tak-1\n",
        "\n",
        "#Unit Converter(weight,distance,temperature) Task-2"
      ],
      "metadata": {
        "id": "LypzdihV-yJd"
      },
      "execution_count": null,
      "outputs": []
    },
    {
      "cell_type": "code",
      "source": [
        ""
      ],
      "metadata": {
        "colab": {
          "base_uri": "https://localhost:8080/"
        },
        "id": "GJ-JNSDWMMGi",
        "outputId": "42a7eb31-cd7f-4774-896e-dec846438f4d"
      },
      "execution_count": null,
      "outputs": [
        {
          "output_type": "stream",
          "name": "stdout",
          "text": [
            "yes\n"
          ]
        }
      ]
    },
    {
      "cell_type": "code",
      "source": [
        ""
      ],
      "metadata": {
        "id": "doPbnh6TMcdw"
      },
      "execution_count": null,
      "outputs": []
    }
  ]
}