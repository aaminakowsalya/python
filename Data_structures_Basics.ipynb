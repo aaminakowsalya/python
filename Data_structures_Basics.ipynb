{
  "nbformat": 4,
  "nbformat_minor": 0,
  "metadata": {
    "colab": {
      "name": "Data structures Basics.ipynb",
      "provenance": [],
      "collapsed_sections": []
    },
    "kernelspec": {
      "name": "python3",
      "display_name": "Python 3"
    },
    "language_info": {
      "name": "python"
    }
  },
  "cells": [
    {
      "cell_type": "markdown",
      "source": [
        "Basic of Data structures in Python"
      ],
      "metadata": {
        "id": "faB7ofH2M7fy"
      }
    },
    {
      "cell_type": "code",
      "execution_count": null,
      "metadata": {
        "id": "XnaPFAdPM1rO"
      },
      "outputs": [],
      "source": [
        "List"
      ]
    },
    {
      "cell_type": "markdown",
      "source": [
        "tuple - Immutable , cannot change values"
      ],
      "metadata": {
        "id": "jWggqCFXNFUZ"
      }
    },
    {
      "cell_type": "code",
      "source": [
        "a = (1,2,3,4,5)\n",
        "print(a)"
      ],
      "metadata": {
        "colab": {
          "base_uri": "https://localhost:8080/"
        },
        "id": "zSbr5JvYND7V",
        "outputId": "bd1a9481-6b18-445f-b258-b0ca3f416363"
      },
      "execution_count": null,
      "outputs": [
        {
          "output_type": "stream",
          "name": "stdout",
          "text": [
            "(1, 2, 3, 4, 5)\n"
          ]
        }
      ]
    },
    {
      "cell_type": "code",
      "source": [
        "b = (234,'great learning',12,34.6)\n",
        "print(b)"
      ],
      "metadata": {
        "colab": {
          "base_uri": "https://localhost:8080/"
        },
        "id": "jhVNpss4NSIu",
        "outputId": "a00abe72-042e-4ae4-ed7f-67be4826781a"
      },
      "execution_count": null,
      "outputs": [
        {
          "output_type": "stream",
          "name": "stdout",
          "text": [
            "(234, 'great learning', 12, 34.6)\n"
          ]
        }
      ]
    },
    {
      "cell_type": "code",
      "source": [
        "c =(4,5,6.7,7)\n",
        "print(c[0])"
      ],
      "metadata": {
        "colab": {
          "base_uri": "https://localhost:8080/"
        },
        "id": "zclh9xZUNbkj",
        "outputId": "6fd5de66-ecb8-49d0-ff60-b4e0661edc16"
      },
      "execution_count": null,
      "outputs": [
        {
          "output_type": "stream",
          "name": "stdout",
          "text": [
            "4\n"
          ]
        }
      ]
    },
    {
      "cell_type": "code",
      "source": [
        "d = (1,2,3,4)\n",
        "d[1]=4\n",
        "print(d)\n",
        "# dont change in values for tuple."
      ],
      "metadata": {
        "colab": {
          "base_uri": "https://localhost:8080/",
          "height": 226
        },
        "id": "dPVjdm2sNktq",
        "outputId": "2e3158b4-74eb-4067-9c7c-c056a5ccd7d6"
      },
      "execution_count": null,
      "outputs": [
        {
          "output_type": "error",
          "ename": "TypeError",
          "evalue": "ignored",
          "traceback": [
            "\u001b[0;31m---------------------------------------------------------------------------\u001b[0m",
            "\u001b[0;31mTypeError\u001b[0m                                 Traceback (most recent call last)",
            "\u001b[0;32m<ipython-input-7-65bba105aeb3>\u001b[0m in \u001b[0;36m<module>\u001b[0;34m\u001b[0m\n\u001b[1;32m      1\u001b[0m \u001b[0md\u001b[0m \u001b[0;34m=\u001b[0m \u001b[0;34m(\u001b[0m\u001b[0;36m1\u001b[0m\u001b[0;34m,\u001b[0m\u001b[0;36m2\u001b[0m\u001b[0;34m,\u001b[0m\u001b[0;36m3\u001b[0m\u001b[0;34m,\u001b[0m\u001b[0;36m4\u001b[0m\u001b[0;34m)\u001b[0m\u001b[0;34m\u001b[0m\u001b[0;34m\u001b[0m\u001b[0m\n\u001b[0;32m----> 2\u001b[0;31m \u001b[0md\u001b[0m\u001b[0;34m[\u001b[0m\u001b[0;36m1\u001b[0m\u001b[0;34m]\u001b[0m\u001b[0;34m=\u001b[0m\u001b[0;36m4\u001b[0m\u001b[0;34m\u001b[0m\u001b[0;34m\u001b[0m\u001b[0m\n\u001b[0m\u001b[1;32m      3\u001b[0m \u001b[0mprint\u001b[0m\u001b[0;34m(\u001b[0m\u001b[0md\u001b[0m\u001b[0;34m)\u001b[0m\u001b[0;34m\u001b[0m\u001b[0;34m\u001b[0m\u001b[0m\n\u001b[1;32m      4\u001b[0m \u001b[0;31m# dont change in values for tuple.\u001b[0m\u001b[0;34m\u001b[0m\u001b[0;34m\u001b[0m\u001b[0;34m\u001b[0m\u001b[0m\n",
            "\u001b[0;31mTypeError\u001b[0m: 'tuple' object does not support item assignment"
          ]
        }
      ]
    },
    {
      "cell_type": "code",
      "source": [
        "a = (1,2,3)\n",
        "b = (4,5,6)\n",
        "c = a+b\n",
        "print(c)    # concatenation"
      ],
      "metadata": {
        "colab": {
          "base_uri": "https://localhost:8080/"
        },
        "id": "CtF_978vOChD",
        "outputId": "53190d32-d6de-4de4-8d55-fabfd34257fc"
      },
      "execution_count": null,
      "outputs": [
        {
          "output_type": "stream",
          "name": "stdout",
          "text": [
            "(1, 2, 3, 4, 5, 6)\n"
          ]
        }
      ]
    },
    {
      "cell_type": "code",
      "source": [
        "d = ('guvi',34,56,100,78,8.9)\n",
        "print(len(d))"
      ],
      "metadata": {
        "colab": {
          "base_uri": "https://localhost:8080/"
        },
        "id": "-jSknvg4OeeS",
        "outputId": "322c361c-0f1e-4f2c-d2ef-ca1df8358f9e"
      },
      "execution_count": null,
      "outputs": [
        {
          "output_type": "stream",
          "name": "stdout",
          "text": [
            "6\n"
          ]
        }
      ]
    },
    {
      "cell_type": "code",
      "source": [
        "a = ()\n",
        "print(dir(a))"
      ],
      "metadata": {
        "colab": {
          "base_uri": "https://localhost:8080/"
        },
        "id": "XboxPobXOvie",
        "outputId": "ad456191-b93e-4e1f-dc98-12189d223d8b"
      },
      "execution_count": null,
      "outputs": [
        {
          "output_type": "stream",
          "name": "stdout",
          "text": [
            "['__add__', '__class__', '__contains__', '__delattr__', '__dir__', '__doc__', '__eq__', '__format__', '__ge__', '__getattribute__', '__getitem__', '__getnewargs__', '__gt__', '__hash__', '__init__', '__init_subclass__', '__iter__', '__le__', '__len__', '__lt__', '__mul__', '__ne__', '__new__', '__reduce__', '__reduce_ex__', '__repr__', '__rmul__', '__setattr__', '__sizeof__', '__str__', '__subclasshook__', 'count', 'index']\n"
          ]
        }
      ]
    },
    {
      "cell_type": "code",
      "source": [
        "b = (1,2,3,4)\n",
        "b.append(b)"
      ],
      "metadata": {
        "colab": {
          "base_uri": "https://localhost:8080/",
          "height": 190
        },
        "id": "wJYL8norUXWr",
        "outputId": "9dbe037f-2af2-49ed-a6a0-f9c9261f1c00"
      },
      "execution_count": null,
      "outputs": [
        {
          "output_type": "error",
          "ename": "AttributeError",
          "evalue": "ignored",
          "traceback": [
            "\u001b[0;31m---------------------------------------------------------------------------\u001b[0m",
            "\u001b[0;31mAttributeError\u001b[0m                            Traceback (most recent call last)",
            "\u001b[0;32m<ipython-input-20-41059e19b77f>\u001b[0m in \u001b[0;36m<module>\u001b[0;34m\u001b[0m\n\u001b[1;32m      1\u001b[0m \u001b[0mb\u001b[0m \u001b[0;34m=\u001b[0m \u001b[0;34m(\u001b[0m\u001b[0;36m1\u001b[0m\u001b[0;34m,\u001b[0m\u001b[0;36m2\u001b[0m\u001b[0;34m,\u001b[0m\u001b[0;36m3\u001b[0m\u001b[0;34m,\u001b[0m\u001b[0;36m4\u001b[0m\u001b[0;34m)\u001b[0m\u001b[0;34m\u001b[0m\u001b[0;34m\u001b[0m\u001b[0m\n\u001b[0;32m----> 2\u001b[0;31m \u001b[0mb\u001b[0m\u001b[0;34m.\u001b[0m\u001b[0mappend\u001b[0m\u001b[0;34m(\u001b[0m\u001b[0mb\u001b[0m\u001b[0;34m)\u001b[0m\u001b[0;34m\u001b[0m\u001b[0;34m\u001b[0m\u001b[0m\n\u001b[0m",
            "\u001b[0;31mAttributeError\u001b[0m: 'tuple' object has no attribute 'append'"
          ]
        }
      ]
    },
    {
      "cell_type": "code",
      "source": [
        "b=(3,4,5,6)\n",
        "b.count(3)"
      ],
      "metadata": {
        "colab": {
          "base_uri": "https://localhost:8080/"
        },
        "id": "OJ778hXkUwM_",
        "outputId": "cf4d831c-7260-49aa-bac2-a5f6258025ff"
      },
      "execution_count": null,
      "outputs": [
        {
          "output_type": "execute_result",
          "data": {
            "text/plain": [
              "1"
            ]
          },
          "metadata": {},
          "execution_count": 26
        }
      ]
    },
    {
      "cell_type": "code",
      "source": [
        "c =(2,3,4)\n",
        "c.index(2)"
      ],
      "metadata": {
        "colab": {
          "base_uri": "https://localhost:8080/"
        },
        "id": "yGyAxM-QV9AL",
        "outputId": "a84fd821-4f91-42ed-d0d8-a3dad27e221c"
      },
      "execution_count": null,
      "outputs": [
        {
          "output_type": "execute_result",
          "data": {
            "text/plain": [
              "0"
            ]
          },
          "metadata": {},
          "execution_count": 30
        }
      ]
    },
    {
      "cell_type": "markdown",
      "source": [
        "Set is Mutable,\n",
        "\n",
        "It Nevers follow a Sequence,"
      ],
      "metadata": {
        "id": "sMSaCFVGXCPh"
      }
    },
    {
      "cell_type": "code",
      "source": [
        "a ={23,45,65,78,99,43}\n",
        "print(a)"
      ],
      "metadata": {
        "id": "yjhJKM8kWytr",
        "colab": {
          "base_uri": "https://localhost:8080/"
        },
        "outputId": "897010bc-4cc3-47fe-fded-7b1d8494e01f"
      },
      "execution_count": 1,
      "outputs": [
        {
          "output_type": "stream",
          "name": "stdout",
          "text": [
            "{65, 99, 43, 45, 78, 23}\n"
          ]
        }
      ]
    },
    {
      "cell_type": "code",
      "source": [
        "a={23,45,36,11,12,18,89}\n",
        "print(a[1])"
      ],
      "metadata": {
        "colab": {
          "base_uri": "https://localhost:8080/",
          "height": 190
        },
        "id": "WQOs_mVcGXdD",
        "outputId": "6986f069-4e0f-48a8-cfe1-c8b7db6f77d3"
      },
      "execution_count": 2,
      "outputs": [
        {
          "output_type": "error",
          "ename": "TypeError",
          "evalue": "ignored",
          "traceback": [
            "\u001b[0;31m---------------------------------------------------------------------------\u001b[0m",
            "\u001b[0;31mTypeError\u001b[0m                                 Traceback (most recent call last)",
            "\u001b[0;32m<ipython-input-2-fd17420b21d3>\u001b[0m in \u001b[0;36m<module>\u001b[0;34m\u001b[0m\n\u001b[1;32m      1\u001b[0m \u001b[0ma\u001b[0m\u001b[0;34m=\u001b[0m\u001b[0;34m{\u001b[0m\u001b[0;36m23\u001b[0m\u001b[0;34m,\u001b[0m\u001b[0;36m45\u001b[0m\u001b[0;34m,\u001b[0m\u001b[0;36m36\u001b[0m\u001b[0;34m,\u001b[0m\u001b[0;36m11\u001b[0m\u001b[0;34m,\u001b[0m\u001b[0;36m12\u001b[0m\u001b[0;34m,\u001b[0m\u001b[0;36m18\u001b[0m\u001b[0;34m,\u001b[0m\u001b[0;36m89\u001b[0m\u001b[0;34m}\u001b[0m\u001b[0;34m\u001b[0m\u001b[0;34m\u001b[0m\u001b[0m\n\u001b[0;32m----> 2\u001b[0;31m \u001b[0mprint\u001b[0m\u001b[0;34m(\u001b[0m\u001b[0ma\u001b[0m\u001b[0;34m[\u001b[0m\u001b[0;36m1\u001b[0m\u001b[0;34m]\u001b[0m\u001b[0;34m)\u001b[0m\u001b[0;34m\u001b[0m\u001b[0;34m\u001b[0m\u001b[0m\n\u001b[0m",
            "\u001b[0;31mTypeError\u001b[0m: 'set' object is not subscriptable"
          ]
        }
      ]
    },
    {
      "cell_type": "code",
      "source": [
        "a={1,2,3,'great',9.7,'learning'}\n",
        "print(a)"
      ],
      "metadata": {
        "colab": {
          "base_uri": "https://localhost:8080/"
        },
        "id": "9DTwqNPQGkZJ",
        "outputId": "28ba1ee8-5398-4f35-aeaa-8814e0ed2580"
      },
      "execution_count": 3,
      "outputs": [
        {
          "output_type": "stream",
          "name": "stdout",
          "text": [
            "{1, 2, 3, 'learning', 9.7, 'great'}\n"
          ]
        }
      ]
    },
    {
      "cell_type": "code",
      "source": [
        "a ={1,2,3,4,5,6,67,2,2,4,3,6,3,3}\n",
        "print(a)"
      ],
      "metadata": {
        "colab": {
          "base_uri": "https://localhost:8080/"
        },
        "id": "7mff1CuoGwJq",
        "outputId": "52470cc7-76ed-4594-9f8c-146bf9ca375d"
      },
      "execution_count": 4,
      "outputs": [
        {
          "output_type": "stream",
          "name": "stdout",
          "text": [
            "{1, 2, 3, 4, 5, 6, 67}\n"
          ]
        }
      ]
    },
    {
      "cell_type": "code",
      "source": [
        "a={4,5,6.7,8,9.0}\n",
        "print(len(a))"
      ],
      "metadata": {
        "colab": {
          "base_uri": "https://localhost:8080/"
        },
        "id": "yGQLAnhxG7nY",
        "outputId": "08cf31f9-c468-4760-e072-ee19a806ae07"
      },
      "execution_count": 5,
      "outputs": [
        {
          "output_type": "stream",
          "name": "stdout",
          "text": [
            "5\n"
          ]
        }
      ]
    },
    {
      "cell_type": "code",
      "source": [
        "a=set()\n",
        "dir(a)"
      ],
      "metadata": {
        "colab": {
          "base_uri": "https://localhost:8080/"
        },
        "id": "bTQjESQPHDjx",
        "outputId": "f8a008d9-f718-4f14-fb74-729bb6435cf7"
      },
      "execution_count": 6,
      "outputs": [
        {
          "output_type": "execute_result",
          "data": {
            "text/plain": [
              "['__and__',\n",
              " '__class__',\n",
              " '__contains__',\n",
              " '__delattr__',\n",
              " '__dir__',\n",
              " '__doc__',\n",
              " '__eq__',\n",
              " '__format__',\n",
              " '__ge__',\n",
              " '__getattribute__',\n",
              " '__gt__',\n",
              " '__hash__',\n",
              " '__iand__',\n",
              " '__init__',\n",
              " '__init_subclass__',\n",
              " '__ior__',\n",
              " '__isub__',\n",
              " '__iter__',\n",
              " '__ixor__',\n",
              " '__le__',\n",
              " '__len__',\n",
              " '__lt__',\n",
              " '__ne__',\n",
              " '__new__',\n",
              " '__or__',\n",
              " '__rand__',\n",
              " '__reduce__',\n",
              " '__reduce_ex__',\n",
              " '__repr__',\n",
              " '__ror__',\n",
              " '__rsub__',\n",
              " '__rxor__',\n",
              " '__setattr__',\n",
              " '__sizeof__',\n",
              " '__str__',\n",
              " '__sub__',\n",
              " '__subclasshook__',\n",
              " '__xor__',\n",
              " 'add',\n",
              " 'clear',\n",
              " 'copy',\n",
              " 'difference',\n",
              " 'difference_update',\n",
              " 'discard',\n",
              " 'intersection',\n",
              " 'intersection_update',\n",
              " 'isdisjoint',\n",
              " 'issubset',\n",
              " 'issuperset',\n",
              " 'pop',\n",
              " 'remove',\n",
              " 'symmetric_difference',\n",
              " 'symmetric_difference_update',\n",
              " 'union',\n",
              " 'update']"
            ]
          },
          "metadata": {},
          "execution_count": 6
        }
      ]
    },
    {
      "cell_type": "code",
      "source": [
        "a ={1,2,3,\"improve skills\",9.0,56,96,85,76,78,90,32}\n",
        "a.add(10)\n",
        "print(a)"
      ],
      "metadata": {
        "colab": {
          "base_uri": "https://localhost:8080/"
        },
        "id": "0PXrOX1mHIv5",
        "outputId": "4c877fba-d701-4b32-ec88-60ec22849e52"
      },
      "execution_count": 7,
      "outputs": [
        {
          "output_type": "stream",
          "name": "stdout",
          "text": [
            "{96, 1, 2, 3, 32, 9.0, 10, 76, 'improve skills', 78, 85, 56, 90}\n"
          ]
        }
      ]
    },
    {
      "cell_type": "code",
      "source": [
        "b ={1,2,3,\"sucesss\",9.0}\n",
        "b.update([56,100,120,350,'acheive your Goal'])\n",
        "print(b)"
      ],
      "metadata": {
        "colab": {
          "base_uri": "https://localhost:8080/"
        },
        "id": "BSzE2IRgHp7X",
        "outputId": "3406932c-afe6-4774-ba97-cb33baba4161"
      },
      "execution_count": 8,
      "outputs": [
        {
          "output_type": "stream",
          "name": "stdout",
          "text": [
            "{1, 2, 3, 100, 'sucesss', 'acheive your Goal', 9.0, 56, 120, 350}\n"
          ]
        }
      ]
    },
    {
      "cell_type": "code",
      "source": [
        "c=[23,56,78,89,100]\n",
        "c.remove(89)\n",
        "print(c)"
      ],
      "metadata": {
        "colab": {
          "base_uri": "https://localhost:8080/"
        },
        "id": "N1YTrWFMIAoI",
        "outputId": "f69f3007-6892-4aeb-8e9c-07bdd3e47d75"
      },
      "execution_count": 9,
      "outputs": [
        {
          "output_type": "stream",
          "name": "stdout",
          "text": [
            "[23, 56, 78, 100]\n"
          ]
        }
      ]
    },
    {
      "cell_type": "code",
      "source": [
        "d=[34,67,89,130,65]\n",
        "d.pop(3)\n",
        "print(d) # index values pop will be remove example d.pop(index value 3)"
      ],
      "metadata": {
        "colab": {
          "base_uri": "https://localhost:8080/"
        },
        "id": "hqlBHym5ILQg",
        "outputId": "4ec4423c-60d9-4590-a9ee-c572af947792"
      },
      "execution_count": 18,
      "outputs": [
        {
          "output_type": "stream",
          "name": "stdout",
          "text": [
            "[34, 67, 89, 65]\n"
          ]
        }
      ]
    },
    {
      "cell_type": "code",
      "source": [
        "a={1,2,3,4,5}\n",
        "b={6,7,8,9,10}\n",
        "print(a|b)\n",
        "print(a.union(b))"
      ],
      "metadata": {
        "colab": {
          "base_uri": "https://localhost:8080/"
        },
        "id": "Zo3_qUDkITVa",
        "outputId": "5c7abc1c-2ed9-4da1-970d-009d854795e2"
      },
      "execution_count": 20,
      "outputs": [
        {
          "output_type": "stream",
          "name": "stdout",
          "text": [
            "{1, 2, 3, 4, 5, 6, 7, 8, 9, 10}\n",
            "{1, 2, 3, 4, 5, 6, 7, 8, 9, 10}\n"
          ]
        }
      ]
    },
    {
      "cell_type": "code",
      "source": [
        "a={11,2,33,4,5}\n",
        "b={11,7,8,33,10}\n",
        "print(a&b)\n",
        "print(a.intersection(b))"
      ],
      "metadata": {
        "colab": {
          "base_uri": "https://localhost:8080/"
        },
        "id": "v5lRpeWlJMON",
        "outputId": "b6d6892f-097e-4524-882a-12152cf752ea"
      },
      "execution_count": 22,
      "outputs": [
        {
          "output_type": "stream",
          "name": "stdout",
          "text": [
            "{33, 11}\n",
            "{33, 11}\n"
          ]
        }
      ]
    },
    {
      "cell_type": "code",
      "source": [
        "a={1,22,33,44,5}\n",
        "b={6,7,22,33,44}\n",
        "print(a&b)\n",
        "print(a.intersection_update(b))"
      ],
      "metadata": {
        "colab": {
          "base_uri": "https://localhost:8080/"
        },
        "id": "XHNXY9PrJaZn",
        "outputId": "c18d1c28-d719-4844-e29f-ae8c653fd0bc"
      },
      "execution_count": 23,
      "outputs": [
        {
          "output_type": "stream",
          "name": "stdout",
          "text": [
            "{33, 44, 22}\n",
            "None\n"
          ]
        }
      ]
    },
    {
      "cell_type": "code",
      "source": [
        "a={11,12,13,14,15}\n",
        "b={6,7,8,9,10}\n",
        "print(a-b)\n",
        "print(b-a)"
      ],
      "metadata": {
        "colab": {
          "base_uri": "https://localhost:8080/"
        },
        "id": "gDrgI4yoJwMm",
        "outputId": "c112c3c5-19c5-48a5-9674-ffd930076267"
      },
      "execution_count": 25,
      "outputs": [
        {
          "output_type": "stream",
          "name": "stdout",
          "text": [
            "{11, 12, 13, 14, 15}\n",
            "{6, 7, 8, 9, 10}\n"
          ]
        }
      ]
    },
    {
      "cell_type": "markdown",
      "source": [
        "Dictionary - Mutable,key and value are pair, keys are unique and henace Immutable Dictionaries are Mutable.\n",
        "it is denoted by {}"
      ],
      "metadata": {
        "id": "2Qh4IKDNKOdh"
      }
    },
    {
      "cell_type": "code",
      "source": [
        "thisdict = {\n",
        "  \"brand\": \"Ford\",\n",
        "  \"model\": \"Mustang\",\n",
        "  \"year\": 1964\n",
        "}\n",
        "print(thisdict)"
      ],
      "metadata": {
        "colab": {
          "base_uri": "https://localhost:8080/"
        },
        "id": "oG9zfpANJ39o",
        "outputId": "ae32fd51-b02d-40d0-f740-c084d8112129"
      },
      "execution_count": 26,
      "outputs": [
        {
          "output_type": "stream",
          "name": "stdout",
          "text": [
            "{'brand': 'Ford', 'model': 'Mustang', 'year': 1964}\n"
          ]
        }
      ]
    },
    {
      "cell_type": "code",
      "source": [
        "a ={7:'dhoni',9:\"ranjini\",34:'sweet'}\n",
        "print(a[7])"
      ],
      "metadata": {
        "colab": {
          "base_uri": "https://localhost:8080/"
        },
        "id": "ZAzpIICsMcC2",
        "outputId": "04b48563-0e47-458c-ab61-77c9dd5a8edb"
      },
      "execution_count": 37,
      "outputs": [
        {
          "output_type": "stream",
          "name": "stdout",
          "text": [
            "dhoni\n"
          ]
        }
      ]
    },
    {
      "cell_type": "code",
      "source": [
        "dir(a)"
      ],
      "metadata": {
        "colab": {
          "base_uri": "https://localhost:8080/"
        },
        "id": "IuEKUnJoM_Gy",
        "outputId": "bdfffb38-77b1-4439-c77c-48ab85498452"
      },
      "execution_count": 38,
      "outputs": [
        {
          "output_type": "execute_result",
          "data": {
            "text/plain": [
              "['__class__',\n",
              " '__contains__',\n",
              " '__delattr__',\n",
              " '__delitem__',\n",
              " '__dir__',\n",
              " '__doc__',\n",
              " '__eq__',\n",
              " '__format__',\n",
              " '__ge__',\n",
              " '__getattribute__',\n",
              " '__getitem__',\n",
              " '__gt__',\n",
              " '__hash__',\n",
              " '__init__',\n",
              " '__init_subclass__',\n",
              " '__iter__',\n",
              " '__le__',\n",
              " '__len__',\n",
              " '__lt__',\n",
              " '__ne__',\n",
              " '__new__',\n",
              " '__reduce__',\n",
              " '__reduce_ex__',\n",
              " '__repr__',\n",
              " '__setattr__',\n",
              " '__setitem__',\n",
              " '__sizeof__',\n",
              " '__str__',\n",
              " '__subclasshook__',\n",
              " 'clear',\n",
              " 'copy',\n",
              " 'fromkeys',\n",
              " 'get',\n",
              " 'items',\n",
              " 'keys',\n",
              " 'pop',\n",
              " 'popitem',\n",
              " 'setdefault',\n",
              " 'update',\n",
              " 'values']"
            ]
          },
          "metadata": {},
          "execution_count": 38
        }
      ]
    },
    {
      "cell_type": "code",
      "source": [
        "print(a.keys())"
      ],
      "metadata": {
        "colab": {
          "base_uri": "https://localhost:8080/"
        },
        "id": "hoeVgz-QNPON",
        "outputId": "43d65425-252b-4f7e-aa81-425a57be2f11"
      },
      "execution_count": 39,
      "outputs": [
        {
          "output_type": "stream",
          "name": "stdout",
          "text": [
            "dict_keys([7, 9, 34])\n"
          ]
        }
      ]
    },
    {
      "cell_type": "code",
      "source": [
        "print(a.items())"
      ],
      "metadata": {
        "colab": {
          "base_uri": "https://localhost:8080/"
        },
        "id": "rxxPW1a2NTSp",
        "outputId": "c2b7f20d-8c61-4195-c427-01476058cc3a"
      },
      "execution_count": 40,
      "outputs": [
        {
          "output_type": "stream",
          "name": "stdout",
          "text": [
            "dict_items([(7, 'dhoni'), (9, 'ranjini'), (34, 'sweet')])\n"
          ]
        }
      ]
    },
    {
      "cell_type": "code",
      "source": [
        "print(a.pop(34))"
      ],
      "metadata": {
        "colab": {
          "base_uri": "https://localhost:8080/"
        },
        "id": "57uEHQKpNcjN",
        "outputId": "04310fd5-41e4-4c3c-ce24-dda3c0cbaa9f"
      },
      "execution_count": 42,
      "outputs": [
        {
          "output_type": "stream",
          "name": "stdout",
          "text": [
            "sweet\n"
          ]
        }
      ]
    },
    {
      "cell_type": "code",
      "source": [
        "print(a.values())"
      ],
      "metadata": {
        "colab": {
          "base_uri": "https://localhost:8080/"
        },
        "id": "k9NSXHKCNXhp",
        "outputId": "ba7ba81c-4539-499f-d5ce-3f6b6e8c4a22"
      },
      "execution_count": 41,
      "outputs": [
        {
          "output_type": "stream",
          "name": "stdout",
          "text": [
            "dict_values(['dhoni', 'ranjini', 'sweet'])\n"
          ]
        }
      ]
    },
    {
      "cell_type": "markdown",
      "source": [
        "Dictionary Items\n",
        "Dictionary items are ordered, changeable, and does not allow duplicates.\n",
        "\n",
        "Dictionary items are presented in key:value pairs, and can be referred to by using the key name.\n",
        "\n"
      ],
      "metadata": {
        "id": "mKvjnHAzK36I"
      }
    },
    {
      "cell_type": "code",
      "source": [
        "thisdict = {\n",
        "  \"brand\": \"Ford\",\n",
        "  \"model\": \"Mustang\",\n",
        "  \"year\": 1964\n",
        "}\n",
        "print(thisdict[\"brand\"])"
      ],
      "metadata": {
        "colab": {
          "base_uri": "https://localhost:8080/"
        },
        "id": "24rJeW61Kyr4",
        "outputId": "b92556ae-0706-40d9-90a1-aea27132d836"
      },
      "execution_count": 27,
      "outputs": [
        {
          "output_type": "stream",
          "name": "stdout",
          "text": [
            "Ford\n"
          ]
        }
      ]
    },
    {
      "cell_type": "code",
      "source": [
        "#Duplicate values will overwrite existing values:\n",
        "\n",
        "thisdict = {\n",
        "  \"brand\": \"Ford\",\n",
        "  \"model\": \"Mustang\",\n",
        "  \"year\": 1964,\n",
        "  \"year\": 2020\n",
        "}\n",
        "print(thisdict)"
      ],
      "metadata": {
        "colab": {
          "base_uri": "https://localhost:8080/"
        },
        "id": "VaDc5Fu9K8VC",
        "outputId": "d4f46178-a364-47ff-f47a-6b5d918a88b3"
      },
      "execution_count": 28,
      "outputs": [
        {
          "output_type": "stream",
          "name": "stdout",
          "text": [
            "{'brand': 'Ford', 'model': 'Mustang', 'year': 2020}\n"
          ]
        }
      ]
    },
    {
      "cell_type": "code",
      "source": [
        "#To determine how many items a dictionary has, use the len() function:\n",
        "\n",
        "#Print the number of items in the dictionary:\n",
        "\n",
        "print(len(thisdict))"
      ],
      "metadata": {
        "colab": {
          "base_uri": "https://localhost:8080/"
        },
        "id": "5fq4ZjRCLGuE",
        "outputId": "982f1021-630e-44db-d02e-adc89193d7d4"
      },
      "execution_count": 29,
      "outputs": [
        {
          "output_type": "stream",
          "name": "stdout",
          "text": [
            "3\n"
          ]
        }
      ]
    },
    {
      "cell_type": "code",
      "source": [
        "#Dictionary Items - Data Types\n",
        "#The values in dictionary items can be of any data type:\n",
        "\n",
        "#String, int, boolean, and list data types:\n",
        "\n",
        "thisdict = {\n",
        "  \"brand\": \"Ford\",\n",
        "  \"electric\": False,\n",
        "  \"year\": 1964,\n",
        "  \"colors\": [\"red\", \"white\", \"blue\"]\n",
        "}"
      ],
      "metadata": {
        "id": "VL9mQxmtLTcL"
      },
      "execution_count": 31,
      "outputs": []
    },
    {
      "cell_type": "markdown",
      "source": [
        "**Python Collections (Arrays)**\n",
        "\n",
        "There are four collection data types in the Python programming language:\n",
        "\n",
        "\n",
        "**List** is a collection which is ordered and changeable. Allows duplicate members.\n",
        "\n",
        "**Tuple** is a collection which is ordered and unchangeable. Allows duplicate members.\n",
        "\n",
        "**Set** is a collection which is unordered, unchangeable*, and unindexed. No duplicate members.\n",
        "\n",
        "**Dictionary** is a collection which is ordered** and changeable. No duplicate members.\n"
      ],
      "metadata": {
        "id": "d6KbLuHxLmzl"
      }
    },
    {
      "cell_type": "code",
      "source": [
        "#The list of the keys is a view of the dictionary, meaning that any changes done to the dictionary will be reflected in the keys list.\n",
        "\n",
        "\n",
        "#Add a new item to the original dictionary, and see that the keys list gets updated as well:\n",
        "\n",
        "car = {\n",
        "\"brand\": \"Ford\",\n",
        "\"model\": \"Mustang\",\n",
        "\"year\": 1964\n",
        "}\n",
        "\n",
        "x = car.keys()\n",
        "\n",
        "print(x) #before the change\n",
        "\n",
        "car[\"color\"] = \"white\"\n",
        "\n",
        "print(x) #after the change"
      ],
      "metadata": {
        "colab": {
          "base_uri": "https://localhost:8080/"
        },
        "id": "Eb5RZyBJLeHz",
        "outputId": "59b83772-fadb-4f3d-cdab-cfc9cde3f6f2"
      },
      "execution_count": 32,
      "outputs": [
        {
          "output_type": "stream",
          "name": "stdout",
          "text": [
            "dict_keys(['brand', 'model', 'year'])\n",
            "dict_keys(['brand', 'model', 'year', 'color'])\n"
          ]
        }
      ]
    },
    {
      "cell_type": "code",
      "source": [
        "#You can change the value of a specific item by referring to its key name:\n",
        "\n",
        "#Change the \"year\" to 2018:\n",
        "\n",
        "thisdict = {\n",
        "  \"brand\": \"Ford\",\n",
        "  \"model\": \"Mustang\",\n",
        "  \"year\": 1964\n",
        "}\n",
        "thisdict[\"year\"] = 2018"
      ],
      "metadata": {
        "id": "JdxtX_BDMHqc"
      },
      "execution_count": 33,
      "outputs": []
    },
    {
      "cell_type": "code",
      "source": [
        "# Loop Dictionaries\n",
        "for x in thisdict:\n",
        "  print(x)"
      ],
      "metadata": {
        "colab": {
          "base_uri": "https://localhost:8080/"
        },
        "id": "PCFI6rIeMVJ2",
        "outputId": "75ea5994-ad80-48ad-8a8f-fe01a78f62e8"
      },
      "execution_count": 43,
      "outputs": [
        {
          "output_type": "stream",
          "name": "stdout",
          "text": [
            "brand\n",
            "model\n",
            "year\n"
          ]
        }
      ]
    },
    {
      "cell_type": "code",
      "source": [
        "#Print all values in the dictionary, one by one:\n",
        "for x in thisdict:\n",
        "  print(thisdict[x])"
      ],
      "metadata": {
        "colab": {
          "base_uri": "https://localhost:8080/"
        },
        "id": "LW8tPXpvN1rH",
        "outputId": "72bc9cbe-41d6-438f-dfb8-81f243e7f0ca"
      },
      "execution_count": 45,
      "outputs": [
        {
          "output_type": "stream",
          "name": "stdout",
          "text": [
            "Ford\n",
            "Mustang\n",
            "2018\n"
          ]
        }
      ]
    },
    {
      "cell_type": "code",
      "source": [
        "#You can also use the values() method to return values of a dictionary:\n",
        "\n",
        "for x in thisdict.values():\n",
        "  print(x)"
      ],
      "metadata": {
        "colab": {
          "base_uri": "https://localhost:8080/"
        },
        "id": "hlsx-togN6V9",
        "outputId": "ac36f383-69ea-4fa3-c86c-446d28018837"
      },
      "execution_count": 47,
      "outputs": [
        {
          "output_type": "stream",
          "name": "stdout",
          "text": [
            "Ford\n",
            "Mustang\n",
            "2018\n"
          ]
        }
      ]
    },
    {
      "cell_type": "code",
      "source": [
        "#You can use the keys() method to return the keys of a dictionary:\n",
        "\n",
        "for x in thisdict.keys():\n",
        "  print(x)\n"
      ],
      "metadata": {
        "colab": {
          "base_uri": "https://localhost:8080/"
        },
        "id": "cOb-TZ0qOCwv",
        "outputId": "746864ef-9128-41df-b6f5-d2524dec932a"
      },
      "execution_count": 48,
      "outputs": [
        {
          "output_type": "stream",
          "name": "stdout",
          "text": [
            "brand\n",
            "model\n",
            "year\n"
          ]
        }
      ]
    },
    {
      "cell_type": "code",
      "source": [
        "#Loop through both keys and values, by using the items() method:\n",
        "\n",
        "for x, y in thisdict.items():\n",
        "  print(x, y)"
      ],
      "metadata": {
        "colab": {
          "base_uri": "https://localhost:8080/"
        },
        "id": "3W1MT-5gOQjL",
        "outputId": "cf26083b-cf3e-458c-9b6d-5be22c1590ee"
      },
      "execution_count": 50,
      "outputs": [
        {
          "output_type": "stream",
          "name": "stdout",
          "text": [
            "brand Ford\n",
            "model Mustang\n",
            "year 2018\n"
          ]
        }
      ]
    },
    {
      "cell_type": "code",
      "source": [
        "#Nested Dictionaries\n",
        "#A dictionary can contain dictionaries, this is called nested dictionaries.\n",
        "\n",
        "\n",
        "#Create a dictionary that contain three dictionaries:\n",
        "\n",
        "myfamily = {\"child1\" : {\"name\" : \"Emil\",\"year\" : 2004},\"child2\" : {\"name\" : \"Tobias\",\"year\" : 2007},\"child3\" : {\"name\" : \"Linus\",\"year\" : 2011}}"
      ],
      "metadata": {
        "id": "LBbW63btORed"
      },
      "execution_count": 54,
      "outputs": []
    },
    {
      "cell_type": "code",
      "source": [
        "#Use the get method to print the value of the \"model\" key of the car dictionary.\n",
        "\n",
        "\n",
        "car =\t{\"brand\": \"Ford\",\"model\": \"Mustang\",\"year\": 1964}\n",
        "print(car.get(\"model\"))"
      ],
      "metadata": {
        "colab": {
          "base_uri": "https://localhost:8080/"
        },
        "id": "Mtfq-tqYOdbo",
        "outputId": "27d9962e-d35c-45e2-88c4-97ac7342401f"
      },
      "execution_count": 55,
      "outputs": [
        {
          "output_type": "stream",
          "name": "stdout",
          "text": [
            "Mustang\n"
          ]
        }
      ]
    },
    {
      "cell_type": "code",
      "source": [
        "#Change the \"year\" value from 1964 to 2020.\n",
        "\n",
        "car =\t{\"brand\": \"Ford\",\"model\": \"Mustang\",\"year\": 1964}\n",
        "car[\"year\"]= 2020\n"
      ],
      "metadata": {
        "id": "7nYhK-8DPTGb"
      },
      "execution_count": 61,
      "outputs": []
    },
    {
      "cell_type": "code",
      "source": [
        "#Add the key/value pair \"color\" : \"red\" to the car dictionary.\n",
        "\n",
        "car =\t{\"brand\": \"Ford\",\"model\": \"Mustang\",\"year\": 1964}\n",
        "car[\"color\"]=\"red\"\n"
      ],
      "metadata": {
        "id": "8QL_zAymPjLN"
      },
      "execution_count": 63,
      "outputs": []
    },
    {
      "cell_type": "markdown",
      "source": [
        "![Screenshot 2022-08-20 22.52.21.png](data:image/png;base64,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)![Screenshot 2022-08-20 22.52.38.png](data:image/png;base64,iVBORw0KGgoAAAANSUhEUgAAAWkAAADKCAYAAABnhLG6AAAAAXNSR0IArs4c6QAAIABJREFUeJzt3XlcVPX+P/DXsAoiuG8kKKiYlHlxJygVWYRQFAg1cYOba2q/vC655vLFtDQFL6GWplnKVblpZpZeLW/mkpIhgeACirLDDMMw+7x/f3A5McwMImqM9n4+Hj4ezjmf8zmf5fCeM5+ZeY+IiAiMMcbMkkVTN4AxxphpHKQZY8yMcZBmjDEzxkGaMcbMGAdpxhgzYxykGWPMjHGQZowxM8ZBmjHGzBgHacYYM2NWTd0Axp40pVIJnU7X1M14bEQiEaysrGBlxX++fwUi/lo4e5bJZDJYWFg8UwGNiKBQKGBvb/9M9YsZxzPMnlkajQYAYGdn18QteTLUajUH6b8AnmH2TBOJRI90fFlZGVq3bo3KykpYW1vD1tYWZeXlaN2q1SPV+1vaNaPbLSws8IJnb71t5WIxAKBVy5Z65WqehNizjYM0YyaUlZXhzt082NjYIvfOXdjb2cGhhQPu3bsPu2bNHukOvVJWhbx79w229+7V02CbWCzBf878iJgp0Y0+H3t6cZBmzITWrVvDxsYWDg7N0aO7O6ytrSESiWBvZ/dYllBUKqXw/x7du2PQgH4GZb5MPojycjHy7t3H518egP/wYejQof0jn5s9PThIM2aCWq1GWXkZHByaQyyWwMbGGnZ29igrK0fz5s0fqe4WDg546cUXAQDW1tYmy/3tpZeQX1AIhUKJ/l5ej3RO9nTiz0kzZoJcroBYLIFCoUR5eTlksirI5XKIJWKoVOpHqltaWYl/H/kapWWl6OXRA708ehgt18ujB7q6dkHr1q3Qy6MH30X/BfFH8NgzS6PRQKPRoFmzZk3dlMdOoVAAwDPZN6aP76TZM8vCwgJqtfqZ+iJLbY/6yRX2dOA7afZMUyqVUCqVsLa2fmaCNRFBJBI98ro4ezpwkGbPPJ1O98wEaKD6DtrS0rKpm8H+JBykGWPMjPGaNGOMmTEO0owxZsY4SDPGmBnjIM0YY2aMgzRjjJkxDtKMMWbGOEgzxpgZ4yDNGGNmjIM0Y4yZMQ7SjDFmxp5okM68K8e1XLnRff/8uhD/Oltm8thruXIELsvEqPeyoNU1/JvrN/MVmBF/2+T539lxBynnygEASceLEHfA8CeM/gzbt2/HuHHjMGnSJMTFxUEuNz5OACAWi/HNN9/8aW3bt2+f8P/t27dj+/btT/R8WVlZiI5+Mj8NdfXqVXh7e2PYsGHQarXC9rpjGh0djYyMjCfShod18OBBHDhwAACwd+9eDBkyBG+99RZWrlyJ33//vUF1bNq0SW8ea8TGxiI1NfWxtrewsBDjxo3DuHHjkJKSYtDu2r777juUlJQIj/v1M/w1mob47LPPsHXr1sY3+inS6CCtUOlQKdfqbVNpCBLZH9t+zqzE2WtSvTIaLaGkQgOVhqDWkslj954qwco3nsORlT1haSGCQqVDqVSDB2Ua0ekAuYqMnv/i9UqUV2owxrv6R0Snj2yP85mVuJmveLjOPwYXL17Ea6+9htWrV6O8vByLFy8W9hGR3oVcUFDwSIGyrKzMIMGQWCyGUqk0Wn7NmjXC/1UqlfCvoqJCr1zddjaUWCyGRCIRHut0unqfpGq3Rfy/H2Wtr+7aP9C6c+dOrF+/HqdPn9ZLSlR3TOVyObRaLaRSqcG4NKSfpaWlBmOsVCohk8kaVFdVVZVw3qFDh2L48OEAgC1btuDHH39EfHw8pk2bhq5duwrHSKVSIa90DY1Gg+LiYqhUKqjVhj9MoFAo9J6s6vbB1L76dOjQAdOmTYOtrS3CwsIM2l3bp59+iry8POFxzfgYu0aN9a+GWq2GSqUyuq++455Gjfr5rNVf3EN6rhwWFoBre1usn9oF248X4cxvFXCws4SdrQW2THfF7u9LoFDrcOpXCTa/6YrcIiWW7L4Lt462+P2OAm+P6QgABsfOHdURRy+UI/WmDMNfcoRX9+ZIOFqIdk5WuF2gxJ4F7niurQ283/kd5z6s/mXl2dtyMDWgHZzs//hDrHv+Xd+XYE5oB72+TA9ujz2nSvDexOcaO4aN1rZtW3Tt2hVhYWF4//33AQBnz57F6tWr0bVrV9y6dQspKSlISkrCzz//jKCgIMyePRvXr19H27ZtMWXKFOTk5GDGjBn49ttvERERgdatW+PixYuYP38+Vq5cCS8vL8hkMpSUlOD8+fMgIkRERMDOzg5FRUWIiYnRu4tNTk5GXl4egoKC4OvrCycnJ3z55Zc4evQocnJysGLFCrzxxhtG2+no6CjUc/z4cezfvx+fffYZACA8PBzLly/Hv//9b1y+fBmWlpZQq9U4cuSI3pi89tprSEhIQNeuXbF7924UFBRg8eLFiI+Px/fff48WLVrA3t4eO3bs0DtOo9EgMjIS1tbWyMvLw8KFC+Hp6YnDhw/jl19+QUBAAN577z2hfN0xBYDFixdDo9EgOzsbX3/9NZ5//vkH9jM7OxtTp06Fq6srsrOzsWfPHpw8eRJ79+5Fy5Ytcfv2baxZswZRUVFG63JwcMCUKVNQWloKmUyG8ePHg4ig0WjQqVMnZGZmIjQ0FH//+9/xr3/9C8uWLUPv3r0RExMjBOSIiAjExsbizJkzmDdvHrp3745r165hyZIlJq89iUSCsLAwrFmzBu7u7oiJiYGzszOysrKwadMmlJSUYO/evfj8888BAKNHj8batWvx4v9+8qsuCwsLiEQiiEQiHDp0SK/d4eHhAIDMzEz88MMPuHv3Lp577jkcOHAAcrkcY8aM0btGraysjPbPGCLC9OnT0bt3b8ydO9fguPDwcLz88stIS0uDpaUlNm3aBGtra4M7fLNGjdB7+lUqEquJiEih0lJBmYrCVmdRpVxLlXItTfrgJt24L6dPvyuif35dKBw3bNHvVFCmIiKizSn5tO90icljZyXcpktZlcKxCpWWUm/KaMHOXNr5bREREQ35f+nC/pryWXlymvTBTSIig/O/8o/fDfoirdJQ8IrMxgzDI4mJiaH58+dTQkIC+fr60pkzZ4iIaMiQIVRQUEBSqZQ++ugjSkpKooyMDBo9erRw7MaNG2nXrl1ERHT79m0KDAwkIqLw8HBKTk4Wyrm7u5NMJiMiooiICLpw4QKlpqaSr68vKRQKIiKSy+UGbfPw8BD+Hx8fT2vXriUiomvXrtHIkSNNtrM2rVZLvXv3JolEQkVFReTr6yvsKy0tpZ9++om8vb0pPT2dMjIyKDw8nIiIQkJC6Pbt20REtGvXLoqLi6P79+/TiBEjSCqVklQqpfDwcLp+/bre+fbt20eLFi0iIqLKykrq3bs3ERFNnjyZfv75Z4M+1h3T8PBw+u9//0tERAkJCfT+++83qJ+bN2+mhQsXEhGRTqcjpVJJ8fHxtH79eiIiKioqoj59+pis68CBAzR37lyhPrFYTImJiRQfH28wF1FRUZSWlkbJycm0bNkykkqlJJFIyMvLi4iI+vXrR/fv3yciori4OOEaqe2NN96g06dPk7+/P509e5aIiGbNmkUnTpwgqVRKly9fpvHjx5NOp6MXX3yRioqKKCcnh4YPH25QV23ff/89TZ48WXhcu921RUVFUWpqqvDY2DVqqn+17dixgzZu3Ehz5syhzZs3ExGZPC42Npa++uor0ul05OXlRRKJpN6+mJtG3UkvG++MqLhsiEQizA/rgDaO1rhfpsLyvdUvY9o4WgEw/NUIqVyHDq30f3TzZoHygcceOV+OpONFGNrHEVUKHeSqxuUGtrYybJODnSUUqqbJ1mptbY2ysjJYWVnB29sbRITMzEysXLlSKBMaGvpQdT7//PPC/62srGBvbw8AaNOmDaqqqtC/f38MHjwY/fv3R4cOHbBlyxZ4enrWW6eTk5NeHQ1pp4WFBd544w188cUXqKqqwtSpUwEA77zzDnJzczFo0CAA1S/zHRwc6j1/dnY28vLysGDBAgDVr0Dq/ipJdna20PfmzZvDxsYGVVVV9dZbXz+Li4sb1M/x48dj3rx56N27N7y8vPDPf/5TaAMAtGvXDnK53GRdly9fhletH5itaUN9MjIycO7cOWE8Bg4cCKD6ZX6nTp0eePyMGTMwYMAA+Pj4CPVVVFTg8OHDAIABAwZAJBJh2rRp+OSTTyCRSDBr1qwH1tsYxq5RU/2r6+OPP4aNjQ02bNgg9MPYcbNnz8aSJUtga2sLb29vvVdCT4OHDtJEQHD/lhj/ahvkl6kxZk0WUpb3hL2NBTbGdIGlhQgaLUGrA2ysRHrrzBYWQKVcCwc7S1QpqwNttw62Ro+t7bNTJfgw1gW9uthh54liKP4XpNUago4ACxEglRuupdU9v05HIAJq/32XV2rg0KxpPuQyfPhwBAUFQaVSYebMmdi5cydcXFywfPlyODs7A6hesyssLNRbY7O3t0d5efWbn3XXiR9EJpMhLi4OGzZswBdffIGEhAQkJiYalNPpdLCwMD4uIpHIaDvrmjZtGsaOHQsLCwt89913ICIkJyfj7t27AKrX5euq6VvXrl2Fvrm7u8Pe3h7btm2DpaUlNBqNwdppjx49cPXqVaEtSqVS+OM3xsbG5oHrlg3pp42NDfbv3w8iwowZM3D8+HG9/bdu3UKnTp1M1iUWi3Hp0iVMnjwZAFBZWVlvmwDAw8MDRUVFSEhI0GuThYUFpFIpWrRoYXQ+amzbtg2ff/451q9fj8WLF8PDwwN+fn6IiIjQq2/q1Knw9vaGra0t1qxZA7lcjp9++gkjRox4YBtNaci4m+pfXRMmTICbmxuioqJw+PBhk8f17dsXMpkMS5cuFZZvniYPH6QBvLbqOnp0bgaxTIvJI9qhU2trTBzeFsErruO5tjbIKVRhzwI3vNy7BaLW38CVGzKsmfQc5o7qCP+lmXBuY4NiiQbTg9ubPLa2kAEtMTMhBx1bW6O0QoNRg6vf+Avq74SRyzNhb2uJ/DLDNxHqnr9PN3ucy5Di5d4thDL/uVqBIc/Xfyf3pK1evRpRUVGIi4tDfHw8wsPD4ebmhjt37mDBggUIDQ2FRCLB2LFjMXnyZAQHByMgIAAnT5586HNlZWUhNjYWnp6eyM3Nxbp16wzKjBw5En5+fvD39zd512GsnTVvGtXo2LEjOnfujE6dOgkB08fHB4GBgRCJRLh9+7ZBvePHj8eECRPg6uoKqVSK0NBQODs7IyYmBr6+vnBxccGtW7dw6NAhdOnSRTguMjISX375JSZMmICcnBy9Nz+NcXV11RtTUx7Uz/3792Pfvn1wdXVFfn4+1qxZg+TkZHz88cc4efIk7ty5g6SkJJN1RUVF4d///jdGjRoFtVqNMWPG1Nvumr6eOHECgYGBsLOzg0qlwjfffIOFCxdi8ODB6NKlCwoLCzFv3jyjxzs5OWHnzp0IDw/Hjh07sGLFCkycOBEHDhyAWCzGoEGDsHbtWjg5OWHgwIHo0aMHrKyskJeXh7CwMIMnkoKCAqxevRp37tzBoUOHhDVoY0aNGoUZM2bghRdeMBkwTfWvLkdHR0yZMgXFxcWYOnUqdu/ebfK4mJgY7Nu3D7169Xrg+Jqdxq6TFEvUJFdq9bZpdUSlFWrS6f7YptboSCLTCI8rqjRUpdA/ztSxtZVWqKmiSmOwvUisJrXGxEF1zn8tp4rC12YJ+zRaHfm/m0H3SpQmj28qpaWlpFar9baVlZWR7n8DpFAoqLS0tFF1azQays/PN6i/NolEQiqVqlHtfJB79+4Ja+LGiMViqqysNNiu1WqppKREGANjiouLSals+HzWHtP61NdPuVxOhYWFQj3x8fEUHx9PEonEaN3G6qqsrKSqqqoGt5uo+hoQi8V62yQSibDG+7AqKioM2jBw4EAqKipqVH2mVFVVNaiNxvrXEMaOmzt3Lh05cuSh6zIHjfr5rNavX34SzxdNriy5cZ/ZZKy2ms8nv/HGG03ckkdz5coV7N27F5s3b27qpjwShUKBsWPH4uuvvza5hGfO+DcOGWPMjD19TyuMMfYXwkGaMcbMGAdpxhgzYxykzYCpZDh/prqJbxorMjLysZzjYZIJPYz6klWlp6cLn7UGGp906datW/WOw5NSc87G9KP23GRkZDyxhFeNUdOvyspKBAQEwM/PD4cOHcKyZcsaXEdjEzmZAw7STchUMhy5XG70A/zGEuDUlyiphqkES7UTEdVNfFNXQ5IbAdWf+a6h0WhQVvZHpsMHnaO2usmEiAilpaV6ZerWX1OuvieC+pJVnT17FqdPnxYe15d0qb7xqC9hVEPHsTFqxv5h+lGj9txotVrhW5J1xxx4cCImuVwOqVRqsL3uXAGmkyHVfFmrdr9OnDgBHx8fnDp1CsHBwXr5PEzNe1lZmdFEV0+Vpvv031/b6dOnqU+fPjR27Fjq2bOnkGdh7dq1NGLECAoKCqJ3332XiIju379PI0eOpNjYWHrllVfol19+IYVCQa+99hpFRkbSq6++Snv27DE4h4uLC4WFhZG/vz/97W9/I6VSSWq1msLCwigyMpKGDBlCKSkplJGRQR07diRvb296/fXXDerZunUrhYaG0oQJEyg2NpaIiGbOnCnkt9iwYQOtWLGCiIg8PT2JiOjQoUPk4+NDUVFR9PLLLxs9x6VLl8jd3d3o+NTkqUhLS6OePXuSv78/DRo0iKZPn260fiKiH3/8kUaMGEGxsbE0fPhwkkgklJaWRgMGDKCRI0fSgAEDaP78+dS+fXsKDAw0+Nxs3759qVevXhQYGEg5OTkUHh5OISEhFBgYSG5ubvT777+bHI/asrOzKSQkhIiIPvvsM3r99ddJrVYbPc7b25uysqo/u3/lyhUhh4kxI0aMoFu3blFVVRW1atWKxGIx3b9/nwICAvTGvqH9qFF3bkyNubHrsK7FixdTcHAwvfbaa/TWW28RUfV1GBoaSiNGjKBBgwaRXC4nrVZLU6ZMoYkTJ1JgYCDt2LFDmMNBgwbR2LFjqX///qTVaoV+DRgwgHr27ElhYWF6+V6MzbtWq6WIiAgKCAigkJAQcnNzMzmu5o6DdBMxlgzn7t275O3tLZTx9/en69evG02A05BEScaS15hKRFQ38U0NU8mNlEoleXt706ZNm2jMmDHClzZq/qBGjx5Nx44d02tb3XNIJBL68ccfjY5P7SDt7+8v1O/i4mKyfmMJjNLS0mjgwIEklUqJyDCxUm2JiYlCsh4i40mXGpLsqSZI79+/n6KiokitVps87vPPP6e3336biKqTbp0+fdpo24iI1q9fT3v27KGUlBTy8fGhPXv20MGDBykuLk5v7BvSD2PjXTM3psbc2HVYl7OzMxUWVic1q5kXd3d34TqdO3cuJScnm0yG1LdvX8rPzyciEhIh1fSrJuEWEekFaWPzfujQIZozZ47QLlMJn54GjUqwxB6dsWQ4N2/eRM+ePYXHnp6euHHjhtEEOH369HlgoiRjyWseNhGRqeRGNjY22LhxI3x8fJCdnW2Q8GjJkiV49913sWjRIoSHh2PVqlUGdTs6OsLX1/eBY+Xo6CjUb2dnZ7T+lStXmkyG1KVLlwcmcTKlbtKlhiR7AoDU1FScO3cO586dg5WVlcnjIiMjsXbtWixYsABpaWkYOnSoybb4+flhx44d0Gg02LVrF5YsWQIXFxeMGzfuofvxIMbG3Nh1WNe6desQHBwMCwsLYW6srKxga2sLAOjZsyfy8/MhFosNkiEREaRSKTp27Ci04UHIROKqX3/91Wj7nkYcpJuIsWQ4bm5uuH79ulAmPT0dM2bMMJoAp6GJkuoylYjIVOIbU8mNVCoVVq5cia1bt2L27Nn45ptv9L7N1bNnT5w6dQoqlQpeXl6YOXOmwTkqKipw9erVBgXquozVbyyBUd38IPUl+LGxsXngenFDkj3VlIuPj8f48eNx7Ngxk8fZ2NggPDwco0ePFtZY8/PzcefOHSFTYA0vLy9cvXoVbm5u6N69O9RqNS5duiRkgXuYfhjre0MSHxlLxFSDiDB69GhMnjwZ9+7dg7+/v0Eej0uXLiE6OholJSUGyZBEIhFsbW1RWFiIDh06QCaTCdkETTGVuKqoqAjZ2dkAIKyvP604SDcRY8lwunTpgqCgIAQEBMDa2hp9+/aFh4eH0QQ4Y8aMeWCiJGNMJSIylfjGVHKj//u//0N0dDQmTZqEe/fuYcWKFVi7dq1w3Pz581FSUgI7Ozu89NJL6NChg8E5srKyMHXqVNy4ceOhx89Y/cYSGHXv3l3vuLqJlUaPHi3sGzp0KEJCQnDx4kV8+OGHRs/bkGRPQPVd4EsvvYQtW7YgLCwMJ06cMHnc3//+d2zbtg0TJ04EUJ2Iyc7OziBIW1hYoHPnzkIWutDQUBw5ckTvF2ca2o+6as9N7V8Jqs1UIqYaRIRXX30VvXr1Qnl5Od58800AEBJlyWQydOvWDX5+ftDpdEaTIX300UcIDQ1Fjx49cPPmTZw7d+6BbTc275GRkRg6dCiuXLkCCwsLgzfOnyb8tfAmVFFRobckUaOyshI6nc7g5Z5UKoWVlZXw8lOr1aK4uBht27aFldXDPd+WlJTA0dERNjY2wraaOw5jKT51Oh3Ky8vRunVroy/vjZFIJCAitGzZskHneFjG6geq39F3dHSsd0zKy8vRsmVLg75oNBrIZLIH5nVuzHiYOi4lJQX//e9/hYD6yiuv4ODBg2jfvn2D662rof2oraFzU/c6rKu4uBgODg7C/l69euHatWtQqVQGdSuVSigUCr12EpEwRg+j7rwTEYqLix9pHM0BB2nGmti0adOwdOlSuLu7Q6PRYMuWLXjnnXeaulmPTXBw8J/6Q8rPGg7SjDFmxvjLLIwxZsY4SDPGmBnjIM0YY2aMg/RTwNSvJTPGnn0cpM2MXC5HSUmJ3ofv6/tGYA16QGIhxtjTiYN0EygvL0fv3r2FQLx161Zs2bIFx44dQ3BwMObMmYMBAwbgzp07esd98MEH2L17NwAgJycHQUFBAKqzngUEBGDJkiXw8/NDRUXFn9shxtgTw0G6CbRq1QoDBgzAqVOnAAD79+/HpEmTEBISguPHj+Mf//gHBg0ahK+//rpB9S1atAiff/45Nm/ejFGjRmH//v1PsvmMsT8Rfy28iUyfPh1bt25F69at0aNHD7Rq1QoHDx7E1q1b4e/vD5lM1uBlDlOJhRhjTz8O0k3E29sb8+bNw8aNG/HWW28BAHbs2IHExER4enpi27ZtBonj7e3thWToNUsaphLMMMaeDRykm9DkyZORlJQEb29vAEBYWBgmTZqEzp07o6SkxCCDWHBwMAICAnDy5Em97cYSzISFhf1p/WCMPTn8tXAzU1paCmtra5O5dGt+CshY8pmGJBZijD1dOEgzxpgZ4093MMaYGeMgzRhjZoyDNGOMmTEO0owxZsY4SDPGmBnjIM0YY2aMgzRjjJkxDtKMMWbGOEgzxpgZ4yDNGGNmjIM0Y4yZMQ7SjDFmxjhIM8aYGeMgzRhjZoyDNGOMmTEO0owxZsY4SDPGmBnjIM0YY2aMgzRjjJkxDtKMMWbGOEgzxpgZ4yDNGGNmjIM0Y4yZMQ7SjDFmxjhIM8aYGeMgzRhjZoyDNGOMmTEO0owxZsY4SDPGmBnjIM0YY2aMgzRjjJkxDtKMMWbGOEgzxpgZ4yDNGGNmjIM0Y4yZsT89SA9blFHv/n+dLWtQPQf/W4aFn9wBACQdL0LcgfuP3LY/04YNG5Cbmys8TklJwcmTJxt07KVLlzBjxgyT+8ViMb755ptHbuO+ffuE/2/fvh3bt29/5DrHjBmDO3fu4Pr161i2bFmDzn3w4EEcOHDgkc/9pERGRgIA0tPTcfXqVWF7v379Hnjsd999h5KSEgBARkYGoqOjn0wjG6GmX5WVlQgICICfnx8OHTpU77zVZWwMPvvsM2zduvWxtfNhTJkyBRkZ9ccgc/NEgrRUroVGS3rbyis1UKoJMqVO2KZQ6VAq1YBqFd14KN+gvkq5Fkq1Tu/xtqOFWB39HABg+sj2OJ9ZiZv5isfckyfnxx9/RHl5ufA4PT0dN27c0CtTVmb4hFVUVAS1Wg2F4o++isViSCQS4XFBQYHRgFpaWgqtVqu3TSwWQ6lUGm3jmjVrhP+rVCrhX0VFhV45IhICjSkymQwVFRWQy+XQ6XRwcXFBbGysXpna41H73EOHDsXw4cOFx3K5HDKZzOAcRITS0lK9bXK5HCUlJSAig/KPy+rVqwEAZ8+exenTp4XtNW0sKyuDTqczeuynn36KvLw8AIBWq4VcLjfaD8D4/NUml8shlUoNthu7jqRSqd41VKP2HNT068SJE/Dx8cGpU6cQHBysN2+m5r6srAxKpdLoPKnVaqhUKqN9UKlUEIvFRvc9LLVajeLiYmg0GmGbQqGodwxrmBqfpmDVmIPGrb+BDTEucGlngy/OlKJIrMb8sI6Y/OEtyBTVA5BbpMS+hd3RvXMzTNt8C1K5FtaWIiF4f3dFgoSjhWjnZIXbBUrsWeCOX7JluF+qQsS6bAx53gFvj+mEuYk50GgJJRUajB7cCtF+bfHV+XKM8W6FZjZ/PMdMD26PPadK8N7E5x7DsDQtV1dXvPTSS8If3ZkzZ1BeXo6wsDB07twZhYWF6NmzJwBg1apVuHz5MiwtLaFWq3HkyBEkJSXh559/RlBQEGbPno3+/fsjJiYGzs7OyMrKwqZNm/DCCy8gIiICdnZ2KCoqQkxMjN5dXHJyMvLy8hAUFARfX184OTnhyy+/xNGjR5GTk4MVK1bgjTfewNmzZ7F69Wp07doVt27dQkpKChwdHfX6s2nTJnz55Zd47rnncPnyZQBAbm4uli1bhoMHD+Ls2bP4xz/+AWdnZ9y5cwcLFizQO3ebNm2g0WgwZ84crFu3DmfOnIGVlRW8vLywbt06XLt2DeHh4XB1dUVFRQX69u2Ljz/+GMeOHcMHH3yADh064MaNGzh8+DBcXFzg7u6OYcOG4cKFCxgyZAgGDhwFEqVFAAAbcUlEQVSI2NhYKJVKDBgwAJcvX4a1tbXQfn9/f2zfvh0dO3aEs7Mzbt++jaqqKkyZMgUnTpxAZGQkrl27hqSkJCgUCnz77bdISkqCXC7HmDFjIJPJUFJSgvPnz8PGxkaoNzMzEz/88APu3r2L5557DsuXL0daWhoCAwP1+pGfn28wf3XvUJcsWYLffvsNFhYW6NatG7Zu3Wr0OrKxsUFMTAw0Gg2Ki4sRERGB2NhYgzm4cOGC0K/3338fEokEqampiIuL05u3unPv4OCAqKgoVFRUwNraGmq12uR1TkSYPn06evfujfnz5yM+Ph7ff/89WrRoAXt7e2zYsAEvv/wy0tLSYGlpiU2bNsHa2hpvvfWWXj1DhgzBvn374ObmhrS0NKxYsQI7duxAcHAw3N3dcePGDaxatQohISHCMb/88gsSEhKwe/duAECvXr2QmZkJnU5ndHyaFDVCVFw25RYpiYho3+kS2pyST0REkz64Sb9kVRIR0dEL5bRgZy4dOV9OCz+5Ixw7YN414f8KlZZSb8powc5c2vltkcH+f58ro3X771GlXEsVVRoauvB3IiKa93EOXblRqdcmaZWGgldkNqY7TSIkJIRSU1OFx2vWrKHExEQiInJ3dyeFQkFERHPnzqXk5GR666236ODBg0RE9PPPP9PkyZOFY0tLS+mnn34ib29vSk9Pp4yMDBo9erSwf9asWXTixAmSSqV0+fJlGj9+PKWmppKvr69wHrlcbtBGDw8P4f/x8fG0du1aIiK6du0ajRw5koiIhgwZQgUFBSSVSumjjz6ipKQkvToKCwupX79+pNVqiYgoMDCQbt++TRkZGRQeHk5ERH379qX8/OprSCKRGJw7MTGR4uPj6e7du+Tt7S1s9/f3p+vXr1NaWhr5+/uTTqcjIiIXFxehjFwup19++YVmzZpF27ZtIyIiV1dXunXrFhER5ebm0oABA4iIaO/evbRy5UqDcVi/fj3t2bOHUlJSyMfHh/bs2UMHDx6kuLg4IiLy9PQU2rl582bhOHd3d5LJZEREFBERQRcuXDCoOyoqSrgOTPXD2PzV5ezsTIWFhUKfa85f9zpKTk6mZcuWkVQqJYlEQl5eXibnoKZfu3btEvpae96Mzf2hQ4dozpw5Qrtqz2ONHTt20MaNG2nOnDnCeN2/f59GjBhBUqmUpFIphYeH0/Xr1yk2Npa++uor0ul05OXlRRKJhH777TdKSUmhlJQUKisro08//ZSWLl1KRETz5s2j48ePExGRVqul9PR02r59O0VGRgrjnZaWRpcuXdL7G6ppp6nxaUqNupOuj32z6rvb7p1skfyjGln35Pibu71BuSPny5F0vAhD+ziiSqGDXGX4cvD6PQUuXq/E8r3VLwe9ujcHAEiqtGjraK1X1sHOEgrVk3tJ+7jZ2trqvezSaDRo1qwZAMDKygq2trYAgJ49eyI/Px8ZGRlYsGCBQT3vvPMOcnNzMWjQIABAVVUVHBwc9MpkZGSgoqIChw8fBgAMGDAAffr0weDBg9G/f3906NABW7ZsgaenZ71tdnJyAgC0adMGVVVVICJkZmZi5cqVQpnQ0FC9Y7Kzs9GnTx9YWBhfWSMiSKVSdOzYEQAM7sJru3nzpvAKAgA8PT1x48YNuLi4wNHRESKRCABgZ2cHoHote+vWrfD394dMJkNVVRUAoFmzZujWrRsAwMXFBZ07d8b58+exfft2o2vffn5+2LFjBzQaDXbt2oUlS5bAxcUF48aNq3e8rKysYG9vrzdmD2KsH8bmr65169YhODgYFhYWWLRoEcLDw41eR2KxGOfOnROupYEDBz7UHNQwNfe//vqr0fbV9fHHH8PGxgYbNmwAUH2d5OXlCe1q27YtRCIRZs+ejSVLlsDW1hbe3t5wdHREQUEBrl27JoxFVFQUBg4ciKVLl+Knn37Cpk2bkJmZiSlTpmDYsGFo3rx5g8YeqB7ruuPT1BoVpO1sLSCu1MClnQ2kcuPrO1duVqFXFzt0bGWDWwXVa54KlU5Yf/7sVAk+jHVBry522HmiGIpaQVpHgIUI6NG5GUokamyIcQEAVP1vPbtNCysUS9To0u6Pl47llRo4NHt6Pqzi4eGBK1euCC9bL1++jKCgIINyly5dQnR0NC5fvozs7Gy4uLgI63xEhOTkZNy9excAcPHiRQCAjY2N3nqah4cH/Pz8EBERAaB6rVQmkyEuLg4bNmzAF198gYSEBCQmJhqcX6fTmQywIpEILi4uWL58OZydnYW6a+vcuTOys7OFx3X/WEQiEWxtbVFYWIgOHTpAJpOhefPmRs/t5uaG69evC4/T09MxY8YMky+pd+zYgcTERHh6emLbtm2Qy+VGy82ZMwdvvfUWevTogU6dOhns9/LywtWrV+Hm5obu3btDrVbj0qVLQoCpYWNj89DrqXXnyhhj81cbEWH06NGYPHky7t27B39/f4SHh+uVqbmOSkpKUFRUhISEBKGu+ubAFFNzX1RUJMx3zfq6MRMmTICbmxuioqJw+PBhuLu7w97eHtu2bYOlpSU0Gg20Wi1sbW0hk8mwdOlSfP755wCql5/8/f316hs2bBhmzpyJMWPGwMLCAikpKYiOjsbs2bORnp6O8+fP65W3t7cX1t+VSqXwvoyHh4fB+DS1RgXp8Jdb4+9bb6NLWxtUKnQI6uck7PvHzjtoYW+JSrkOexa4wcbKAqGrruPqrSpYWECYtJABLTEzIQcdW1ujtEKDUYNbAQD8/+aIsNVZGNrHEfPDOuI/VyUIX5cNOxsLqDSE5CXdMbiXA75PrRDurAHgP1crMOR5/TtIc/b2228jNDQUx44dQ3FxMf72t79h8ODBAKrftAgNDYVMJkO3bt3g5+eHNm3aICoqCt27d0dVVRVcXV0hEong4+ODwMBAiEQi3L59G0D1mrZEIsHYsWMxefJkrFixAhMnTsSBAwcgFosxaNAgjBkzBrGxsfD09ERubi7WrVtn0MaRI0fCz88P/v7+Ju+u4uPjER4eDjc3N2E9OSwsTNjfrVs39OzZE76+vmjWrJneJ1pqfPTRRwgNDUWPHj1w8+ZNnDt3Tu/crVu3BgB06dIFQUFBCAgIgLW1Nfr27QsPDw/hrqqusLAwTJo0CZ07d0ZJSYlB4KoxYsQITJ8+HXPmzDG638LCAp07d8aIESMAVN8xHjlyBJaWlnrlhg4dipCQEFy8eBEffvih0brqGjVqFGbMmIEXXngBixcvNlrG2PytXbtW2E9EePXVV9GrVy+Ul5fjzTffBGD8OtLpdDhx4gQCAwNhZ2cHlUqFb775xugcPIixuY+MjMTQoUNx5coVWFhYmHzD1NHREVOmTEFxcTGmTp2KPXv2ICYmBr6+vnBxccGtW7dw6NAhdOnSBTExMdi3bx969eplsi3Tp0+Hl5cX7typ/sSXv78/oqOjcfLkSahUKuHVSQ0PDw8UFxcjODgYAIQnysjISKPj05REZOqprh6tX7/8JNry2JQlP/ijT+aiqKgI9vb2eksUvXr1wrVr16BSqYSXy0D1O9+VlZVC0Kpx//59tGnTRnhpW6O8vBwtW7YULlCpVAorKyvhZbRWq0VxcTHatm0LKyvjz9cVFRWws7PTeyPNmLKyMjg6Opqsp7i4GK1btzYIbDWICOXl5Xp9M3XuyspK6HS6Br0sLy0thbW1db1lCwoKMHbs2AYFpgfRaDSQyWTC0lBD1Nxx1p5rY+rOX13FxcVwcHAQ9pu6joDqu0eFQqHXTmNz0BB1556IUFxcjPbt2z9UPUD1q6eaNtRct/PmzcOIESMMltIepOYVo6l26HQ6FBUVCcs8tRkbn6bSqCBtypJddxEb1B7unWwfXPgR/edqBf5ztQJrJz2HnSeKAQCxge2e+Hn/DMHBwU3+7P1X8vHHH8PJyQnjx49v6qY8Vs/CdaRQKDB27Fh8/fXXJpfdnnWPNUgzxhh7vP6aT02MMfaU4CDNGGNmjIP0U8Dcc1cwxp4cXpNuYhUVFbC3t9d7Z7y0tBTNmzcX3qWvyT3Rrp3xN0ZLS0vRqlWrv+wbK4w9yx77Nw5Zw0RERKCyshIAcOvWLXz11Vd4/vnnERYWBltbWxQXF+OVV17Be++9h4MHDwq5K2rnndi4cSPWrl0LV1dXZGdnY8+ePfV+lpQx9vThW68m9N577+Hbb7/F+++/L3zD6auvvsLGjRuxatUq4RtWtWm1WixduhRpaWnIzMzEyy+/jH379uHChQtwc3P7s7vAGHvCOEg3oZqv3tbkVVAoFAgICMD69etx9epVoykVa+edGD9+PHJzc9G7d29ER0ebTWpFxtjjw0HaDFy6dAmenp5ITU2Fk5MTEhMTMXPmTL20lsbY2Nhg//79SE9PR/PmzXH8+PE/qcWMsT8Lr0k3odmzZ8PR0RFSqRSHDx+GtbU1srOzMXbsWKhUqgdm7tq/fz/27dsHV1dX5Ofn6yXKZ4w9G/jTHU0kIiICK1euhKurq15eCY1Gg4KCAjg7OxskhTFGoVCgoqIC7dq1a1B5xtjThe+km4izszOaNWtmkPjHysoKzz3X8F+XadasmZCHmjH27OE7acYYM2P8xiFjjJkxDtKMMWbGOEgzxpgZ4yDNGGNmjIM0Y4yZMQ7SjDFmxjhIM8aYGeMgzRhjZoyDNGOMmTEO0owxZsY4SDPGmBnjIM0YY2aMgzRjjJkxDtKMMWbGOEgzxpgZ4yDNGGNmjIM0Y4yZMQ7SjDFmxjhIM8aYGeMgzRhjZoyDNGOMmTEO0owxZsY4SDPGmBnjIM0YY2aMgzRjjJkxDtKMMWbGOEgzxpgZ4yDNGGNmjIM0Y4yZMQ7SjDFmxjhIM8aYGeMgzRhjZoyDNGOMmTEO0owxZsaeeJD2W5L52OpSqnUIW52FrHsKlEo1CFl5HYXl6sdW/59p+/btGDduHCZNmoS4uDjI5XKTZcViMb755ps/sXX1y8rKQnR0NABg5cqV+P33342WS09Px9WrVx+q7jlz5mDo0KHYuXPnQ7VjypQpyMjIMCizb98+4f8ZGRlC+Seldpsep4MHD+LAgQMNLv/dd9+hpKQEwOPr96ZNm4TxjIyMbNC5r1+/jmXLlj3yuf/KHmuQVqh0KJVqQPTHNrlK16Bjy6QaaHVksK32poSjhQgd1Ao9nZuhTQsrLIrsjFX77j2Opv/pLl68iNdeew2rV69GeXk5Fi9eLOwjIuEiB4CCggJs37690ecqKyuDTqc/D2KxGEql0mj5mvObeuLQ6XTCvmnTpqFr167CvtLSUuFcZ8+exenTp022S6vVory8XO/Y33//HWfOnEFsbKxBebFYDIlEYrQdCoUCWq3W4Jg1a9bonU8ul4OIUFpaalC2tLTUaB31qa9N9ak7xwCg0WhQVlZmtPzQoUMxfPhwvW3G5rXGp59+iry8PACP3m+NRoPi4mKoVCqo1dU3RatXr9YrI5FIhLbUPreLi4veXNad8/r6o1arUVxcDI1GY7JtfwUPHaTFMi0Gv50uBOKk40X4+JsifHdFgtfjbmDhJ3fgtyQDeSUqveMSjhbiizPVF8idYhUi1mUDAArL1Xg97gbe++IeRr+XhV9vVeFmvhIjl1/H4l134f9uJrLvKQAA//65HBOHtxXqfOWFFsi6p0BF1cP9YZmLtm3bomvXrggLC0NOTg6A6sAWEBCAJUuWwM/PDxUVFUhKSsLPP/+MoKAgHD16FB988AF2794NAMjJyUFQUBAAICIiAm+++Sb69u2L3bt3w9XVFWPGjMG4cePQv39/qFQqKJVKhIaG4s0330RgYCD27t1r0K6wsDDMmjULwcHBWLlyZb19WLRoEW7duoXs7Gz4+Phg7ty5GDx4MDIzM5GUlISkpCQEBQUhNzdX77gTJ07Ax8cHM2fOREhICBQKBd5//32kpaUhKCgI2dnZeuVXrVqF6OhoTJ48GSEhIQ0KpsnJycjLy0NQUBDWrVsHAEhLS0NgYCBCQkIwY8YMAEB+fj6Cg4OxePFiDB8+HJcvX9ar5/jx45g8ebLwODw8HL/++usD2/Taa68J87p7926sX78egPE5Pnz4MIYNG4ZZs2bBx8fHoC+176SNzWttmZmZ+OGHHzB79mxERUU1ut8AcObMGfTr1w8zZszArl27hO01d9L5+fkYPnw4pk2bhsGDB+Pw4cN6587NzcWCBQsAGJ9zU/0pKSnByy+/jLlz52LIkCE4duwYAP1rfMGCBZg4caLQptGjRyMtLc2gD089aoSZCbfpzG8SIiIKWJpB5ZUaIiJSqLSUelNGC3bm0s5vi4iIaMj/SyciovgjBbTvdAkREeUWKSl8bRYRES3YmUv/+VVClXIt/XpLRrEf3aJ/fl1IKz/PIyIinY5IqdZRfpmKXv+/bIO2LP3sLv2QVtGYbjSpmJgYmj9/PiUkJJCvry+dOXOGiIiGDBlCBQUFJJVK6aOPPqKkpCTKyMig0aNHC8du3LiRdu3aRUREt2/fpsDAQCIiCg8Pp+TkZKGcu7s7yWQyIiKKiIigCxcuUGpqKvn6+pJCoSAiIrlcbrR9OTk5dObMGXJzczPYl5GRQeHh4UREFBUVRWlpabR582ZauHAhERHpdDpSKpWUmJhImzdvNlr/iy++SGVlZUREtG7dOtq+fbteX4wpLS2ln376iby9vSk9Pd1oO+ry8PAQ/p+Wlkb+/v6k0+mIiMjFxYWIiGbNmkUnTpwgqVRKly9fpvHjx+vVodVqqXfv3iSRSKioqIh8fX0b1KaQkBC6ffs2ERHt2rWL4uLiiMj4HI8ePZqOHTtGRMbnJDExkeLj44nI+LzWFRUVRampqY/UbyKifv360f3794mIKC4uTrjuPD09iYho5syZdPjwYWGcpFKp3rlrj4exOa+vP1qtltLT02n79u0UGRlJRPrXuE6noxdffJGKioooJyeHhg8fbtD+Z4FVYwL7lBFtkXS8CC0drODeqRlaNrfEkfPlSDpehKF9HFGl0DV4mSMrTwFpVSmOXhQDALy62yPCpxUW77qLwW+n4yU3e3wQ6wKJTIt2TobNbetoBYns6byTtra2RllZGaysrODt7Q0iQmZmpt7da2ho6EPV+fzzzwv/t7Kygr29PQCgTZs2qKqqQv/+/TF48GD0798fHTp0wJYtW+Dp6Skco1AoMGrUKLi7u+P5559v8Mv/8ePHY968eejduze8vLzwz3/+02RZIkJVVRVatWoFAPD09MRPP/0Ef39/k8e88847yM3NxaBBgwAAVVVVcHBwaFDbanN0dIRIJAIA2NnZAahes625mwWAAQMG6B1jYWGBN954A1988QWqqqowderURrfJ1BwvWbIE7777LhYtWoTw8HCsWrXKZB3G5vVJ9BsApFIpOnXqZLLezMxMLFq0CED1OJnqv6k5N9WfzMxMTJkyBcOGDUPz5s31+lhzjYtEIkybNg2ffPIJJBIJZs2a9cBxeBo1KkgP9HDAkt13EX+kEG8GtQMAfHaqBB/GuqBXFzvsPFEMRZ0gbWdjAYmsem1JWmt5onvnZnj1xRYYNbh68qqUOqg0hE/mu4EI+H87cnEytQI+ni1QJDFcmyooV2Ogx8P/sZqD4cOHIygoCCqVCjNnzsTOnTvh4uKC5cuXw9nZGQAgk8lQWFgovDQEAHt7e2Fdr6Ki4qHOKZPJEBcXhw0bNuCLL75AQkICEhMThf2pqalwcnJCYmIi1Go1EhISGlSvjY0N9u/fDyLCjBkzcPz4cdjY2EAsFhuUFYlEQh9atWqFa9euoXv37ibrJiIkJyfj7t27AKrX8x+GTqeDhYXplT0PDw/4+fkhIiICQPUY1TVt2jSMHTsWFhYW+O677xrUppo+du3aVZgnkUhkdI5VKhVOnToFlUoFLy8vzJw5Ex06dHioftZmY2Ojd800tt8WFhaQSqVo0aKF0f3u7u5ITU2Fq6urUIexcz/snKekpCA6OhqzZ89Geno6zp8/b7Tc1KlT4e3tDVtbW733H54ljQrSADDu1TbY/X2JECBDBrTEzIQcdGxtjdIKjRB0a/h7OSF8bRbO/CbV274wohOmx9/G4XPlkMi06N+jOTq1tsa/zpahSzsbFJar8W5UC7RzskKxWI0qpQ72tn/8wZ37XYqVE5wb2w2zsHr1akRFRSEuLg7x8fEIDw+Hm5sb7ty5gwULFiA0NBQSiQRjx47F5MmTERwcjICAAJw8efKhz5WVlYXY2Fh4enoiNzdXWKut8cILLyA7Oxtjx46FSqVq0F0aAOzfvx/79u2Dq6sr8vPzsWbNGlRWViIkJAQXL17Ehx9+iG7dugnl169fj+DgYLi7u6O4uBhfffUVCgoKjNYtEong4+ODwMBAiEQi3L59u8H9HTlyJPz8/ODv749Ro0YZLbNixQpMnDgRBw4cgFgsxqBBg7B27Vq9Mh07dkTnzp3RqVMn4a7vQW0aP348JkyYAFdXV0ilUuFVkbE5TklJQUlJCezs7PDSSy89UoAGgFGjRmHGjBl44YUX9N6Ufth+L1y4EIMHD0aXLl1QWFiIefPm6e1fvnw5JkyYgAMHDiAvLw9btmzRO3ftT3YYm3NT/P39ER0djZMnT0KlUgmvAupycnLCwIED0aNHD1hZNTqcmTUREdGDizVMmVQDaysRWthZGt2vVBOqlFq0cjAczEq5FlaWIjSzsfhfWR0qqnRo62iFmvnZ8W0RpHId/t+YjgCAoxfEOHutAhtiXB5XF8xGWVkZHB0d9S688vJytGzZEiKRCEqlEjKZDK1bt37ourVaLYqLi9G2bVujF7ZGo0FBQQGcnZ1N/nEYo1AoUFFRgXbt2gnHaTQayGQyODk5GZRXq9UQi8Vo165dg+q/f/8+2rRpA1tb2wa3Cah+tWFnZwdra+t6y0mlUlhZWQnLAY+jTRKJBFZWVmjevLnBvrpzLJFIQERo2bJlg89fn5pPdNQ8qZjyoH5XVFToLUkYU15eDkdHR1haWtZ77oeZc5lMBplMhvbt29dbbtCgQfj6668bfB09bRoVpFu/bvgucFMrS+7X1E1gjP3Jrly5gr1792Lz5s1N3ZQn5rHeSTPGGHu8+GvhjDFmxjhIM8aYGeMgzRhjZoyDNGOMmTEO0owxZsY4SDPGmBnjIM0YY2aMgzRjjJkxDtKMMWbGOEgzxpgZ4yDNGGNmjIM0Y4yZMQ7SjDFmxjhIM8aYGeMgzRhjZoyDNGOMmTG9IH306FGTvwPHGGPsz8d30owxZsY4SDPGmBnjIM0YY2aMgzRjjJkxDtKMMWbGOEgzxpgZ4yDNGGNmjIM0Y4yZMRERUc2DrKwsAEDPnj2brEGMMcb+oBekGWOMmRde7mCMMTPGQZoxxswYB2nGGDNjHKQZY8yMcZBmjDEzxkGaMcbM2P8HIqxk+6uq/ukAAAAASUVORK5CYII=)"
      ],
      "metadata": {
        "id": "XicCsX8YR6Jb"
      }
    }
  ]
}